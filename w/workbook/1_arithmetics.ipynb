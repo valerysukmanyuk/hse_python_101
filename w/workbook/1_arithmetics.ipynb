{
  "nbformat": 4,
  "nbformat_minor": 0,
  "metadata": {
    "colab": {
      "provenance": [],
      "include_colab_link": true
    },
    "kernelspec": {
      "name": "python3",
      "display_name": "Python 3"
    },
    "language_info": {
      "name": "python"
    }
  },
  "cells": [
    {
      "cell_type": "markdown",
      "metadata": {
        "id": "view-in-github",
        "colab_type": "text"
      },
      "source": [
        "<a href=\"https://colab.research.google.com/github/valerysukmanyuk/hse_python_101/blob/h%2Fw/w/workbook/1_arithmetics.ipynb\" target=\"_parent\"><img src=\"https://colab.research.google.com/assets/colab-badge.svg\" alt=\"Open In Colab\"/></a>"
      ]
    },
    {
      "cell_type": "markdown",
      "source": [
        "(c) В.И. Фирсанова | 2024"
      ],
      "metadata": {
        "id": "LKJXB1rGMi22"
      }
    },
    {
      "cell_type": "markdown",
      "source": [
        "# Арифметические операции в Python\n",
        "\n",
        "1. **Сложение (+)**:\n",
        "   - `3 + 5` возвращает `8`\n",
        "\n",
        "2. **Вычитание (-)**:\n",
        "   - `10 - 4` возвращает `6`\n",
        "\n",
        "3. **Умножение (*)**:\n",
        "   - `2 * 6` возвращает `12`\n",
        "\n",
        "4. **Деление (/)**:\n",
        "   - `15 / 3` возвращает `5.0` (число с плавающей точкой)\n",
        "\n",
        "5. **Целочисленное деление (//)**:\n",
        "   - `15 // 4` возвращает `3` (целое число)\n",
        "\n",
        "6. **Остаток от деления (%)**:\n",
        "   - `15 % 4` возвращает `3`\n",
        "\n",
        "7. **Возведение в степень (**** **либо (pow())**:\n",
        "   - `2 ** 3` или `pow(2, 3)` возвращает `8`\n",
        "\n",
        "8. **Модуль (abs())**:\n",
        "   - `abs(-10)` возвращает `10`\n",
        "\n",
        "10. **Округление (round())**:\n",
        "    - `round(4.6)` возвращает `5`\n",
        "    - `round(4.65, 1)` возвращает `4.7` (1 знак после запятой)\n",
        "\n",
        "**Порядок арифметических операций в Python:**\n",
        "\n",
        "1. Скобки\n",
        "2. Возведение в степень, корень числа\n",
        "3. Умножение и деление слева-направо\n",
        "4. Сложение и вычитание слева-направо"
      ],
      "metadata": {
        "id": "fQaRb4FdiZXL"
      }
    },
    {
      "cell_type": "code",
      "source": [
        "num1 = 10\n",
        "num2 = 20\n",
        "\n",
        "# Напишите код для сложения 2-х чисел\n",
        "\n",
        "result = num1 + num2\n",
        "\n",
        "print(result)"
      ],
      "metadata": {
        "id": "l6Dwn2cDj_N9",
        "colab": {
          "base_uri": "https://localhost:8080/"
        },
        "outputId": "212d7f15-e187-4103-d9e2-e8780065534a"
      },
      "execution_count": 1,
      "outputs": [
        {
          "output_type": "stream",
          "name": "stdout",
          "text": [
            "30\n"
          ]
        }
      ]
    },
    {
      "cell_type": "code",
      "source": [
        "num1 = 10\n",
        "num2 = 20\n",
        "\n",
        "# Напишите код для вычитания 2-х чисел\n",
        "\n",
        "result = num2 - num1\n",
        "\n",
        "print(result)"
      ],
      "metadata": {
        "id": "0eRzO5hMkdIc",
        "colab": {
          "base_uri": "https://localhost:8080/"
        },
        "outputId": "4aac4969-c740-4e76-f63f-63c7ef1313ac"
      },
      "execution_count": 2,
      "outputs": [
        {
          "output_type": "stream",
          "name": "stdout",
          "text": [
            "10\n"
          ]
        }
      ]
    },
    {
      "cell_type": "code",
      "source": [
        "num1 = 10\n",
        "num2 = 20\n",
        "\n",
        "# Напишите код для умножения 2-х чисел\n",
        "\n",
        "result = num1 * num2\n",
        "\n",
        "print(result)"
      ],
      "metadata": {
        "id": "ZyueEtLqkinp",
        "colab": {
          "base_uri": "https://localhost:8080/"
        },
        "outputId": "b3c42b93-33be-42da-bcab-5049eaa58384"
      },
      "execution_count": 3,
      "outputs": [
        {
          "output_type": "stream",
          "name": "stdout",
          "text": [
            "200\n"
          ]
        }
      ]
    },
    {
      "cell_type": "code",
      "source": [
        "num1 = 10\n",
        "num2 = 20\n",
        "\n",
        "# Напишите код для деления 2-х чисел\n",
        "\n",
        "result = num2 / num1\n",
        "\n",
        "print(result)"
      ],
      "metadata": {
        "id": "6s-US4aVkj93",
        "colab": {
          "base_uri": "https://localhost:8080/"
        },
        "outputId": "050fe61c-6540-42ff-b08c-e413c59fcfd2"
      },
      "execution_count": 4,
      "outputs": [
        {
          "output_type": "stream",
          "name": "stdout",
          "text": [
            "2.0\n"
          ]
        }
      ]
    },
    {
      "cell_type": "code",
      "source": [
        "str1 = \"Hello, \"\n",
        "str2 = \"World!\"\n",
        "\n",
        "# Напишите код для сложения 2-х строк, что получилось?\n",
        "\n",
        "result = str1 + str2\n",
        "\n",
        "print(result)"
      ],
      "metadata": {
        "id": "53S7Bayskqiv",
        "colab": {
          "base_uri": "https://localhost:8080/"
        },
        "outputId": "d98d2686-9e18-412f-fff5-809b09a5a0d7"
      },
      "execution_count": 5,
      "outputs": [
        {
          "output_type": "stream",
          "name": "stdout",
          "text": [
            "Hello, World!\n"
          ]
        }
      ]
    },
    {
      "cell_type": "code",
      "source": [
        "str1 = \"Hello, \"\n",
        "num1 = 10\n",
        "\n",
        "# Напишите код для сложения строки и числа, чем это все закончилось?\n",
        "\n",
        "result = str1 + num1\n",
        "\n",
        "print(result)\n",
        "\n",
        "# Ошибкой, но можно число сделать строкой"
      ],
      "metadata": {
        "id": "IWmTrByfk0Ok",
        "colab": {
          "base_uri": "https://localhost:8080/",
          "height": 211
        },
        "outputId": "1f7f094d-16d7-4b74-e1fd-a4ee1f6d6fc9"
      },
      "execution_count": 6,
      "outputs": [
        {
          "output_type": "error",
          "ename": "TypeError",
          "evalue": "can only concatenate str (not \"int\") to str",
          "traceback": [
            "\u001b[0;31m---------------------------------------------------------------------------\u001b[0m",
            "\u001b[0;31mTypeError\u001b[0m                                 Traceback (most recent call last)",
            "\u001b[0;32m<ipython-input-6-ec6a58eed5c1>\u001b[0m in \u001b[0;36m<cell line: 6>\u001b[0;34m()\u001b[0m\n\u001b[1;32m      4\u001b[0m \u001b[0;31m# Напишите код для сложения строки и числа, чем это все закончилось?\u001b[0m\u001b[0;34m\u001b[0m\u001b[0;34m\u001b[0m\u001b[0m\n\u001b[1;32m      5\u001b[0m \u001b[0;34m\u001b[0m\u001b[0m\n\u001b[0;32m----> 6\u001b[0;31m \u001b[0mresult\u001b[0m \u001b[0;34m=\u001b[0m \u001b[0mstr1\u001b[0m \u001b[0;34m+\u001b[0m \u001b[0mnum1\u001b[0m\u001b[0;34m\u001b[0m\u001b[0;34m\u001b[0m\u001b[0m\n\u001b[0m\u001b[1;32m      7\u001b[0m \u001b[0;34m\u001b[0m\u001b[0m\n\u001b[1;32m      8\u001b[0m \u001b[0mprint\u001b[0m\u001b[0;34m(\u001b[0m\u001b[0mresult\u001b[0m\u001b[0;34m)\u001b[0m\u001b[0;34m\u001b[0m\u001b[0;34m\u001b[0m\u001b[0m\n",
            "\u001b[0;31mTypeError\u001b[0m: can only concatenate str (not \"int\") to str"
          ]
        }
      ]
    },
    {
      "cell_type": "code",
      "source": [
        "str1 = \"Hello, \"\n",
        "num1 = \"10\"\n",
        "\n",
        "# Напишите код для сложения строки и числа еще раз, что получилось?\n",
        "\n",
        "result = str1 + num1\n",
        "\n",
        "print(result)\n",
        "\n",
        "#Получилось сложить две строки"
      ],
      "metadata": {
        "id": "MTUyA3jUlJBL",
        "colab": {
          "base_uri": "https://localhost:8080/"
        },
        "outputId": "9e6a0aeb-3c1e-4990-ffef-603c182615f5"
      },
      "execution_count": 7,
      "outputs": [
        {
          "output_type": "stream",
          "name": "stdout",
          "text": [
            "Hello, 10\n"
          ]
        }
      ]
    },
    {
      "cell_type": "markdown",
      "source": [
        "Сложение двух строк называется **конкатенацией**. В Python можно конкатенировать только 2 одинаковых типа данных, например, числа и числа, строки и строки, матрицы и матрицы и т.д."
      ],
      "metadata": {
        "id": "pQk4nII6lYHC"
      }
    },
    {
      "cell_type": "code",
      "source": [
        "num1 = 10\n",
        "num2 = 20\n",
        "\n",
        "# Выведите на экран результат сложения 2-х чисел\n",
        "\n",
        "num1 += num2\n",
        "\n",
        "print(num1)"
      ],
      "metadata": {
        "id": "xbPvx4Dslnhp",
        "colab": {
          "base_uri": "https://localhost:8080/"
        },
        "outputId": "f28aba46-5d4c-4d51-92e2-7c2e52a21a8a"
      },
      "execution_count": 8,
      "outputs": [
        {
          "output_type": "stream",
          "name": "stdout",
          "text": [
            "30\n"
          ]
        }
      ]
    },
    {
      "cell_type": "markdown",
      "source": [
        "Операторы `+=`, `-=`, `*=`, `/=` изменяют значение текущей переменной путем сложения, вычитания, умножения и т.д. другой переменной. Они делают код **питоничным**, ускоряя как скорость написания кода, так и скорость его выполнения.\n",
        "\n",
        "Почему ускоряется скорость выполнения кода?\n",
        "\n",
        "Сценарий 1\n",
        "\n",
        "```\n",
        "a = 1 # занимаем ячейку памяти компьютера и даем ей идентификатор a\n",
        "b = 1 # занимаем ячейку памяти компьютера и даем ей идентификатор b\n",
        "\n",
        "c = a + b # занимаем ячейку памяти компьютера и даем ей идентификатор c\n",
        "```\n",
        "Сценарий 2\n",
        "```\n",
        "a = 1 # занимаем ячейку памяти компьютера и даем ей идентификатор a\n",
        "b = 1 # занимаем ячейку памяти компьютера и даем ей идентификатор b\n",
        "\n",
        "a += b # обновляем информацию в ячейке a\n",
        "```\n",
        "\n",
        "Результат тот же, но мы не заполняем место в памяти компьютера ячейкой `c`.\n",
        "А теперь представь, что мы работаем с большими данными. Как много памяти мы сохраним и насколько быстрее будет работать такой код!\n",
        "\n",
        "Так что питоничность - это то, к чему мы стремимся, как питонисты :)"
      ],
      "metadata": {
        "id": "EQdzTKaMlvyB"
      }
    },
    {
      "cell_type": "code",
      "source": [
        "num1 = 10\n",
        "num2 = 20\n",
        "\n",
        "# Выведите на экран результат вычитания 2-х чисел с помощью оператора -=\n",
        "\n",
        "num2 -= num1\n",
        "\n",
        "print(num2)"
      ],
      "metadata": {
        "id": "C32ozj4SnYH1",
        "colab": {
          "base_uri": "https://localhost:8080/"
        },
        "outputId": "ebc1eaea-7c43-490e-a6c5-46f884b3c7f9"
      },
      "execution_count": 9,
      "outputs": [
        {
          "output_type": "stream",
          "name": "stdout",
          "text": [
            "10\n"
          ]
        }
      ]
    },
    {
      "cell_type": "code",
      "source": [
        "num1 = 10\n",
        "num2 = 20\n",
        "\n",
        "# Выведите на экран результат умножения 2-х чисел с помощью оператора *=\n",
        "\n",
        "num1 *= num2\n",
        "\n",
        "print(num1)"
      ],
      "metadata": {
        "id": "yF5z2RYgnh0O",
        "colab": {
          "base_uri": "https://localhost:8080/"
        },
        "outputId": "f72cb149-50b4-4d3f-eaba-3399d14653ea"
      },
      "execution_count": 10,
      "outputs": [
        {
          "output_type": "stream",
          "name": "stdout",
          "text": [
            "200\n"
          ]
        }
      ]
    },
    {
      "cell_type": "code",
      "source": [
        "num1 = 10\n",
        "num2 = 20\n",
        "\n",
        "# Выведите на экран результат деления 2-х чисел с помощью оператора /=\n",
        "\n",
        "num2 /= num1\n",
        "\n",
        "print(num2)"
      ],
      "metadata": {
        "id": "i0nBdi3ankz0",
        "colab": {
          "base_uri": "https://localhost:8080/"
        },
        "outputId": "b9d3b287-2f6e-43fc-96db-ac747a54b38e"
      },
      "execution_count": 11,
      "outputs": [
        {
          "output_type": "stream",
          "name": "stdout",
          "text": [
            "2.0\n"
          ]
        }
      ]
    }
  ]
}