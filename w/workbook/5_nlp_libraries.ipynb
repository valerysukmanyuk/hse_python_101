{
  "nbformat": 4,
  "nbformat_minor": 0,
  "metadata": {
    "colab": {
      "provenance": [],
      "include_colab_link": true
    },
    "kernelspec": {
      "name": "python3",
      "display_name": "Python 3"
    },
    "language_info": {
      "name": "python"
    },
    "widgets": {
      "application/vnd.jupyter.widget-state+json": {
        "eeb14ba6d3e540a289ac0cf89bd9af3a": {
          "model_module": "@jupyter-widgets/controls",
          "model_name": "HBoxModel",
          "model_module_version": "1.5.0",
          "state": {
            "_dom_classes": [],
            "_model_module": "@jupyter-widgets/controls",
            "_model_module_version": "1.5.0",
            "_model_name": "HBoxModel",
            "_view_count": null,
            "_view_module": "@jupyter-widgets/controls",
            "_view_module_version": "1.5.0",
            "_view_name": "HBoxView",
            "box_style": "",
            "children": [
              "IPY_MODEL_69af4223bbe2475283fafafbfc23ee37",
              "IPY_MODEL_bb82263a37c14354a6a83514fe44b55a",
              "IPY_MODEL_2ace6cb397344e27a2eec4e5f9956440"
            ],
            "layout": "IPY_MODEL_441ac66ba702443d81b34ecf5ec27131"
          }
        },
        "69af4223bbe2475283fafafbfc23ee37": {
          "model_module": "@jupyter-widgets/controls",
          "model_name": "HTMLModel",
          "model_module_version": "1.5.0",
          "state": {
            "_dom_classes": [],
            "_model_module": "@jupyter-widgets/controls",
            "_model_module_version": "1.5.0",
            "_model_name": "HTMLModel",
            "_view_count": null,
            "_view_module": "@jupyter-widgets/controls",
            "_view_module_version": "1.5.0",
            "_view_name": "HTMLView",
            "description": "",
            "description_tooltip": null,
            "layout": "IPY_MODEL_f16ae03e8a484e7fad3978ae1f229cce",
            "placeholder": "​",
            "style": "IPY_MODEL_1ef5656d2a81458f82fb10ab44ebde0b",
            "value": "README.md: 100%"
          }
        },
        "bb82263a37c14354a6a83514fe44b55a": {
          "model_module": "@jupyter-widgets/controls",
          "model_name": "FloatProgressModel",
          "model_module_version": "1.5.0",
          "state": {
            "_dom_classes": [],
            "_model_module": "@jupyter-widgets/controls",
            "_model_module_version": "1.5.0",
            "_model_name": "FloatProgressModel",
            "_view_count": null,
            "_view_module": "@jupyter-widgets/controls",
            "_view_module_version": "1.5.0",
            "_view_name": "ProgressView",
            "bar_style": "success",
            "description": "",
            "description_tooltip": null,
            "layout": "IPY_MODEL_659f67a2492c4353ab69433c97aab19c",
            "max": 1721,
            "min": 0,
            "orientation": "horizontal",
            "style": "IPY_MODEL_9182586cfb164871994e1f76e2db0c68",
            "value": 1721
          }
        },
        "2ace6cb397344e27a2eec4e5f9956440": {
          "model_module": "@jupyter-widgets/controls",
          "model_name": "HTMLModel",
          "model_module_version": "1.5.0",
          "state": {
            "_dom_classes": [],
            "_model_module": "@jupyter-widgets/controls",
            "_model_module_version": "1.5.0",
            "_model_name": "HTMLModel",
            "_view_count": null,
            "_view_module": "@jupyter-widgets/controls",
            "_view_module_version": "1.5.0",
            "_view_name": "HTMLView",
            "description": "",
            "description_tooltip": null,
            "layout": "IPY_MODEL_bc7d46134c974310802a9dd3f86aaba1",
            "placeholder": "​",
            "style": "IPY_MODEL_9920cad5ff5440b489076dc3eba02a80",
            "value": " 1.72k/1.72k [00:00&lt;00:00, 19.9kB/s]"
          }
        },
        "441ac66ba702443d81b34ecf5ec27131": {
          "model_module": "@jupyter-widgets/base",
          "model_name": "LayoutModel",
          "model_module_version": "1.2.0",
          "state": {
            "_model_module": "@jupyter-widgets/base",
            "_model_module_version": "1.2.0",
            "_model_name": "LayoutModel",
            "_view_count": null,
            "_view_module": "@jupyter-widgets/base",
            "_view_module_version": "1.2.0",
            "_view_name": "LayoutView",
            "align_content": null,
            "align_items": null,
            "align_self": null,
            "border": null,
            "bottom": null,
            "display": null,
            "flex": null,
            "flex_flow": null,
            "grid_area": null,
            "grid_auto_columns": null,
            "grid_auto_flow": null,
            "grid_auto_rows": null,
            "grid_column": null,
            "grid_gap": null,
            "grid_row": null,
            "grid_template_areas": null,
            "grid_template_columns": null,
            "grid_template_rows": null,
            "height": null,
            "justify_content": null,
            "justify_items": null,
            "left": null,
            "margin": null,
            "max_height": null,
            "max_width": null,
            "min_height": null,
            "min_width": null,
            "object_fit": null,
            "object_position": null,
            "order": null,
            "overflow": null,
            "overflow_x": null,
            "overflow_y": null,
            "padding": null,
            "right": null,
            "top": null,
            "visibility": null,
            "width": null
          }
        },
        "f16ae03e8a484e7fad3978ae1f229cce": {
          "model_module": "@jupyter-widgets/base",
          "model_name": "LayoutModel",
          "model_module_version": "1.2.0",
          "state": {
            "_model_module": "@jupyter-widgets/base",
            "_model_module_version": "1.2.0",
            "_model_name": "LayoutModel",
            "_view_count": null,
            "_view_module": "@jupyter-widgets/base",
            "_view_module_version": "1.2.0",
            "_view_name": "LayoutView",
            "align_content": null,
            "align_items": null,
            "align_self": null,
            "border": null,
            "bottom": null,
            "display": null,
            "flex": null,
            "flex_flow": null,
            "grid_area": null,
            "grid_auto_columns": null,
            "grid_auto_flow": null,
            "grid_auto_rows": null,
            "grid_column": null,
            "grid_gap": null,
            "grid_row": null,
            "grid_template_areas": null,
            "grid_template_columns": null,
            "grid_template_rows": null,
            "height": null,
            "justify_content": null,
            "justify_items": null,
            "left": null,
            "margin": null,
            "max_height": null,
            "max_width": null,
            "min_height": null,
            "min_width": null,
            "object_fit": null,
            "object_position": null,
            "order": null,
            "overflow": null,
            "overflow_x": null,
            "overflow_y": null,
            "padding": null,
            "right": null,
            "top": null,
            "visibility": null,
            "width": null
          }
        },
        "1ef5656d2a81458f82fb10ab44ebde0b": {
          "model_module": "@jupyter-widgets/controls",
          "model_name": "DescriptionStyleModel",
          "model_module_version": "1.5.0",
          "state": {
            "_model_module": "@jupyter-widgets/controls",
            "_model_module_version": "1.5.0",
            "_model_name": "DescriptionStyleModel",
            "_view_count": null,
            "_view_module": "@jupyter-widgets/base",
            "_view_module_version": "1.2.0",
            "_view_name": "StyleView",
            "description_width": ""
          }
        },
        "659f67a2492c4353ab69433c97aab19c": {
          "model_module": "@jupyter-widgets/base",
          "model_name": "LayoutModel",
          "model_module_version": "1.2.0",
          "state": {
            "_model_module": "@jupyter-widgets/base",
            "_model_module_version": "1.2.0",
            "_model_name": "LayoutModel",
            "_view_count": null,
            "_view_module": "@jupyter-widgets/base",
            "_view_module_version": "1.2.0",
            "_view_name": "LayoutView",
            "align_content": null,
            "align_items": null,
            "align_self": null,
            "border": null,
            "bottom": null,
            "display": null,
            "flex": null,
            "flex_flow": null,
            "grid_area": null,
            "grid_auto_columns": null,
            "grid_auto_flow": null,
            "grid_auto_rows": null,
            "grid_column": null,
            "grid_gap": null,
            "grid_row": null,
            "grid_template_areas": null,
            "grid_template_columns": null,
            "grid_template_rows": null,
            "height": null,
            "justify_content": null,
            "justify_items": null,
            "left": null,
            "margin": null,
            "max_height": null,
            "max_width": null,
            "min_height": null,
            "min_width": null,
            "object_fit": null,
            "object_position": null,
            "order": null,
            "overflow": null,
            "overflow_x": null,
            "overflow_y": null,
            "padding": null,
            "right": null,
            "top": null,
            "visibility": null,
            "width": null
          }
        },
        "9182586cfb164871994e1f76e2db0c68": {
          "model_module": "@jupyter-widgets/controls",
          "model_name": "ProgressStyleModel",
          "model_module_version": "1.5.0",
          "state": {
            "_model_module": "@jupyter-widgets/controls",
            "_model_module_version": "1.5.0",
            "_model_name": "ProgressStyleModel",
            "_view_count": null,
            "_view_module": "@jupyter-widgets/base",
            "_view_module_version": "1.2.0",
            "_view_name": "StyleView",
            "bar_color": null,
            "description_width": ""
          }
        },
        "bc7d46134c974310802a9dd3f86aaba1": {
          "model_module": "@jupyter-widgets/base",
          "model_name": "LayoutModel",
          "model_module_version": "1.2.0",
          "state": {
            "_model_module": "@jupyter-widgets/base",
            "_model_module_version": "1.2.0",
            "_model_name": "LayoutModel",
            "_view_count": null,
            "_view_module": "@jupyter-widgets/base",
            "_view_module_version": "1.2.0",
            "_view_name": "LayoutView",
            "align_content": null,
            "align_items": null,
            "align_self": null,
            "border": null,
            "bottom": null,
            "display": null,
            "flex": null,
            "flex_flow": null,
            "grid_area": null,
            "grid_auto_columns": null,
            "grid_auto_flow": null,
            "grid_auto_rows": null,
            "grid_column": null,
            "grid_gap": null,
            "grid_row": null,
            "grid_template_areas": null,
            "grid_template_columns": null,
            "grid_template_rows": null,
            "height": null,
            "justify_content": null,
            "justify_items": null,
            "left": null,
            "margin": null,
            "max_height": null,
            "max_width": null,
            "min_height": null,
            "min_width": null,
            "object_fit": null,
            "object_position": null,
            "order": null,
            "overflow": null,
            "overflow_x": null,
            "overflow_y": null,
            "padding": null,
            "right": null,
            "top": null,
            "visibility": null,
            "width": null
          }
        },
        "9920cad5ff5440b489076dc3eba02a80": {
          "model_module": "@jupyter-widgets/controls",
          "model_name": "DescriptionStyleModel",
          "model_module_version": "1.5.0",
          "state": {
            "_model_module": "@jupyter-widgets/controls",
            "_model_module_version": "1.5.0",
            "_model_name": "DescriptionStyleModel",
            "_view_count": null,
            "_view_module": "@jupyter-widgets/base",
            "_view_module_version": "1.2.0",
            "_view_name": "StyleView",
            "description_width": ""
          }
        },
        "419b449016d6438f8a81594315c33889": {
          "model_module": "@jupyter-widgets/controls",
          "model_name": "HBoxModel",
          "model_module_version": "1.5.0",
          "state": {
            "_dom_classes": [],
            "_model_module": "@jupyter-widgets/controls",
            "_model_module_version": "1.5.0",
            "_model_name": "HBoxModel",
            "_view_count": null,
            "_view_module": "@jupyter-widgets/controls",
            "_view_module_version": "1.5.0",
            "_view_name": "HBoxView",
            "box_style": "",
            "children": [
              "IPY_MODEL_33e5b90baa9d49a987ccfbe5f72a6664",
              "IPY_MODEL_8ec8195e58d84e68a697eeba6a57e82f",
              "IPY_MODEL_2916bccde2534511937d510378ab0e1c"
            ],
            "layout": "IPY_MODEL_cd9dc20e367b45de889e3f043e44aa3e"
          }
        },
        "33e5b90baa9d49a987ccfbe5f72a6664": {
          "model_module": "@jupyter-widgets/controls",
          "model_name": "HTMLModel",
          "model_module_version": "1.5.0",
          "state": {
            "_dom_classes": [],
            "_model_module": "@jupyter-widgets/controls",
            "_model_module_version": "1.5.0",
            "_model_name": "HTMLModel",
            "_view_count": null,
            "_view_module": "@jupyter-widgets/controls",
            "_view_module_version": "1.5.0",
            "_view_name": "HTMLView",
            "description": "",
            "description_tooltip": null,
            "layout": "IPY_MODEL_2dffa32768cd40d28c68877d6c2a34d4",
            "placeholder": "​",
            "style": "IPY_MODEL_c9fd35524f8a452d8882787ab7c97ca9",
            "value": "train_df.csv: 100%"
          }
        },
        "8ec8195e58d84e68a697eeba6a57e82f": {
          "model_module": "@jupyter-widgets/controls",
          "model_name": "FloatProgressModel",
          "model_module_version": "1.5.0",
          "state": {
            "_dom_classes": [],
            "_model_module": "@jupyter-widgets/controls",
            "_model_module_version": "1.5.0",
            "_model_name": "FloatProgressModel",
            "_view_count": null,
            "_view_module": "@jupyter-widgets/controls",
            "_view_module_version": "1.5.0",
            "_view_name": "ProgressView",
            "bar_style": "success",
            "description": "",
            "description_tooltip": null,
            "layout": "IPY_MODEL_727d5231400f427abd3248667375d593",
            "max": 3555178,
            "min": 0,
            "orientation": "horizontal",
            "style": "IPY_MODEL_421b28d1afea4691a42006ecdd263eff",
            "value": 3555178
          }
        },
        "2916bccde2534511937d510378ab0e1c": {
          "model_module": "@jupyter-widgets/controls",
          "model_name": "HTMLModel",
          "model_module_version": "1.5.0",
          "state": {
            "_dom_classes": [],
            "_model_module": "@jupyter-widgets/controls",
            "_model_module_version": "1.5.0",
            "_model_name": "HTMLModel",
            "_view_count": null,
            "_view_module": "@jupyter-widgets/controls",
            "_view_module_version": "1.5.0",
            "_view_name": "HTMLView",
            "description": "",
            "description_tooltip": null,
            "layout": "IPY_MODEL_0f9387eb438c43aba547ef24806c3200",
            "placeholder": "​",
            "style": "IPY_MODEL_a47abaee8f834909b5d2e97c162d1a05",
            "value": " 3.56M/3.56M [00:00&lt;00:00, 15.6MB/s]"
          }
        },
        "cd9dc20e367b45de889e3f043e44aa3e": {
          "model_module": "@jupyter-widgets/base",
          "model_name": "LayoutModel",
          "model_module_version": "1.2.0",
          "state": {
            "_model_module": "@jupyter-widgets/base",
            "_model_module_version": "1.2.0",
            "_model_name": "LayoutModel",
            "_view_count": null,
            "_view_module": "@jupyter-widgets/base",
            "_view_module_version": "1.2.0",
            "_view_name": "LayoutView",
            "align_content": null,
            "align_items": null,
            "align_self": null,
            "border": null,
            "bottom": null,
            "display": null,
            "flex": null,
            "flex_flow": null,
            "grid_area": null,
            "grid_auto_columns": null,
            "grid_auto_flow": null,
            "grid_auto_rows": null,
            "grid_column": null,
            "grid_gap": null,
            "grid_row": null,
            "grid_template_areas": null,
            "grid_template_columns": null,
            "grid_template_rows": null,
            "height": null,
            "justify_content": null,
            "justify_items": null,
            "left": null,
            "margin": null,
            "max_height": null,
            "max_width": null,
            "min_height": null,
            "min_width": null,
            "object_fit": null,
            "object_position": null,
            "order": null,
            "overflow": null,
            "overflow_x": null,
            "overflow_y": null,
            "padding": null,
            "right": null,
            "top": null,
            "visibility": null,
            "width": null
          }
        },
        "2dffa32768cd40d28c68877d6c2a34d4": {
          "model_module": "@jupyter-widgets/base",
          "model_name": "LayoutModel",
          "model_module_version": "1.2.0",
          "state": {
            "_model_module": "@jupyter-widgets/base",
            "_model_module_version": "1.2.0",
            "_model_name": "LayoutModel",
            "_view_count": null,
            "_view_module": "@jupyter-widgets/base",
            "_view_module_version": "1.2.0",
            "_view_name": "LayoutView",
            "align_content": null,
            "align_items": null,
            "align_self": null,
            "border": null,
            "bottom": null,
            "display": null,
            "flex": null,
            "flex_flow": null,
            "grid_area": null,
            "grid_auto_columns": null,
            "grid_auto_flow": null,
            "grid_auto_rows": null,
            "grid_column": null,
            "grid_gap": null,
            "grid_row": null,
            "grid_template_areas": null,
            "grid_template_columns": null,
            "grid_template_rows": null,
            "height": null,
            "justify_content": null,
            "justify_items": null,
            "left": null,
            "margin": null,
            "max_height": null,
            "max_width": null,
            "min_height": null,
            "min_width": null,
            "object_fit": null,
            "object_position": null,
            "order": null,
            "overflow": null,
            "overflow_x": null,
            "overflow_y": null,
            "padding": null,
            "right": null,
            "top": null,
            "visibility": null,
            "width": null
          }
        },
        "c9fd35524f8a452d8882787ab7c97ca9": {
          "model_module": "@jupyter-widgets/controls",
          "model_name": "DescriptionStyleModel",
          "model_module_version": "1.5.0",
          "state": {
            "_model_module": "@jupyter-widgets/controls",
            "_model_module_version": "1.5.0",
            "_model_name": "DescriptionStyleModel",
            "_view_count": null,
            "_view_module": "@jupyter-widgets/base",
            "_view_module_version": "1.2.0",
            "_view_name": "StyleView",
            "description_width": ""
          }
        },
        "727d5231400f427abd3248667375d593": {
          "model_module": "@jupyter-widgets/base",
          "model_name": "LayoutModel",
          "model_module_version": "1.2.0",
          "state": {
            "_model_module": "@jupyter-widgets/base",
            "_model_module_version": "1.2.0",
            "_model_name": "LayoutModel",
            "_view_count": null,
            "_view_module": "@jupyter-widgets/base",
            "_view_module_version": "1.2.0",
            "_view_name": "LayoutView",
            "align_content": null,
            "align_items": null,
            "align_self": null,
            "border": null,
            "bottom": null,
            "display": null,
            "flex": null,
            "flex_flow": null,
            "grid_area": null,
            "grid_auto_columns": null,
            "grid_auto_flow": null,
            "grid_auto_rows": null,
            "grid_column": null,
            "grid_gap": null,
            "grid_row": null,
            "grid_template_areas": null,
            "grid_template_columns": null,
            "grid_template_rows": null,
            "height": null,
            "justify_content": null,
            "justify_items": null,
            "left": null,
            "margin": null,
            "max_height": null,
            "max_width": null,
            "min_height": null,
            "min_width": null,
            "object_fit": null,
            "object_position": null,
            "order": null,
            "overflow": null,
            "overflow_x": null,
            "overflow_y": null,
            "padding": null,
            "right": null,
            "top": null,
            "visibility": null,
            "width": null
          }
        },
        "421b28d1afea4691a42006ecdd263eff": {
          "model_module": "@jupyter-widgets/controls",
          "model_name": "ProgressStyleModel",
          "model_module_version": "1.5.0",
          "state": {
            "_model_module": "@jupyter-widgets/controls",
            "_model_module_version": "1.5.0",
            "_model_name": "ProgressStyleModel",
            "_view_count": null,
            "_view_module": "@jupyter-widgets/base",
            "_view_module_version": "1.2.0",
            "_view_name": "StyleView",
            "bar_color": null,
            "description_width": ""
          }
        },
        "0f9387eb438c43aba547ef24806c3200": {
          "model_module": "@jupyter-widgets/base",
          "model_name": "LayoutModel",
          "model_module_version": "1.2.0",
          "state": {
            "_model_module": "@jupyter-widgets/base",
            "_model_module_version": "1.2.0",
            "_model_name": "LayoutModel",
            "_view_count": null,
            "_view_module": "@jupyter-widgets/base",
            "_view_module_version": "1.2.0",
            "_view_name": "LayoutView",
            "align_content": null,
            "align_items": null,
            "align_self": null,
            "border": null,
            "bottom": null,
            "display": null,
            "flex": null,
            "flex_flow": null,
            "grid_area": null,
            "grid_auto_columns": null,
            "grid_auto_flow": null,
            "grid_auto_rows": null,
            "grid_column": null,
            "grid_gap": null,
            "grid_row": null,
            "grid_template_areas": null,
            "grid_template_columns": null,
            "grid_template_rows": null,
            "height": null,
            "justify_content": null,
            "justify_items": null,
            "left": null,
            "margin": null,
            "max_height": null,
            "max_width": null,
            "min_height": null,
            "min_width": null,
            "object_fit": null,
            "object_position": null,
            "order": null,
            "overflow": null,
            "overflow_x": null,
            "overflow_y": null,
            "padding": null,
            "right": null,
            "top": null,
            "visibility": null,
            "width": null
          }
        },
        "a47abaee8f834909b5d2e97c162d1a05": {
          "model_module": "@jupyter-widgets/controls",
          "model_name": "DescriptionStyleModel",
          "model_module_version": "1.5.0",
          "state": {
            "_model_module": "@jupyter-widgets/controls",
            "_model_module_version": "1.5.0",
            "_model_name": "DescriptionStyleModel",
            "_view_count": null,
            "_view_module": "@jupyter-widgets/base",
            "_view_module_version": "1.2.0",
            "_view_name": "StyleView",
            "description_width": ""
          }
        },
        "98fdb42f5d784631aec9d63825999f24": {
          "model_module": "@jupyter-widgets/controls",
          "model_name": "HBoxModel",
          "model_module_version": "1.5.0",
          "state": {
            "_dom_classes": [],
            "_model_module": "@jupyter-widgets/controls",
            "_model_module_version": "1.5.0",
            "_model_name": "HBoxModel",
            "_view_count": null,
            "_view_module": "@jupyter-widgets/controls",
            "_view_module_version": "1.5.0",
            "_view_name": "HBoxView",
            "box_style": "",
            "children": [
              "IPY_MODEL_9119c4c3e8874e30ba08d4f18e059895",
              "IPY_MODEL_848b07c585b34215bd117dc6369ce552",
              "IPY_MODEL_e45e3eb2bb9c4b8693c3aae2daac6d95"
            ],
            "layout": "IPY_MODEL_fa5a5a16d643439792b73cd30283facb"
          }
        },
        "9119c4c3e8874e30ba08d4f18e059895": {
          "model_module": "@jupyter-widgets/controls",
          "model_name": "HTMLModel",
          "model_module_version": "1.5.0",
          "state": {
            "_dom_classes": [],
            "_model_module": "@jupyter-widgets/controls",
            "_model_module_version": "1.5.0",
            "_model_name": "HTMLModel",
            "_view_count": null,
            "_view_module": "@jupyter-widgets/controls",
            "_view_module_version": "1.5.0",
            "_view_name": "HTMLView",
            "description": "",
            "description_tooltip": null,
            "layout": "IPY_MODEL_406e3f53bfbe41c7a8e30e466f86439f",
            "placeholder": "​",
            "style": "IPY_MODEL_3ee42ce9a1934d1fb22684ea28fa0e98",
            "value": "val_df.csv: 100%"
          }
        },
        "848b07c585b34215bd117dc6369ce552": {
          "model_module": "@jupyter-widgets/controls",
          "model_name": "FloatProgressModel",
          "model_module_version": "1.5.0",
          "state": {
            "_dom_classes": [],
            "_model_module": "@jupyter-widgets/controls",
            "_model_module_version": "1.5.0",
            "_model_name": "FloatProgressModel",
            "_view_count": null,
            "_view_module": "@jupyter-widgets/controls",
            "_view_module_version": "1.5.0",
            "_view_name": "ProgressView",
            "bar_style": "success",
            "description": "",
            "description_tooltip": null,
            "layout": "IPY_MODEL_5b83df22f40f4a34bffa8229919fd68f",
            "max": 600751,
            "min": 0,
            "orientation": "horizontal",
            "style": "IPY_MODEL_809704e882244d7bba3ecdb711dddd80",
            "value": 600751
          }
        },
        "e45e3eb2bb9c4b8693c3aae2daac6d95": {
          "model_module": "@jupyter-widgets/controls",
          "model_name": "HTMLModel",
          "model_module_version": "1.5.0",
          "state": {
            "_dom_classes": [],
            "_model_module": "@jupyter-widgets/controls",
            "_model_module_version": "1.5.0",
            "_model_name": "HTMLModel",
            "_view_count": null,
            "_view_module": "@jupyter-widgets/controls",
            "_view_module_version": "1.5.0",
            "_view_name": "HTMLView",
            "description": "",
            "description_tooltip": null,
            "layout": "IPY_MODEL_28822bc4161e49aea4cbbdaed6116d45",
            "placeholder": "​",
            "style": "IPY_MODEL_7046049a4cf84f6d8aef61bb6be93d3a",
            "value": " 601k/601k [00:00&lt;00:00, 5.30MB/s]"
          }
        },
        "fa5a5a16d643439792b73cd30283facb": {
          "model_module": "@jupyter-widgets/base",
          "model_name": "LayoutModel",
          "model_module_version": "1.2.0",
          "state": {
            "_model_module": "@jupyter-widgets/base",
            "_model_module_version": "1.2.0",
            "_model_name": "LayoutModel",
            "_view_count": null,
            "_view_module": "@jupyter-widgets/base",
            "_view_module_version": "1.2.0",
            "_view_name": "LayoutView",
            "align_content": null,
            "align_items": null,
            "align_self": null,
            "border": null,
            "bottom": null,
            "display": null,
            "flex": null,
            "flex_flow": null,
            "grid_area": null,
            "grid_auto_columns": null,
            "grid_auto_flow": null,
            "grid_auto_rows": null,
            "grid_column": null,
            "grid_gap": null,
            "grid_row": null,
            "grid_template_areas": null,
            "grid_template_columns": null,
            "grid_template_rows": null,
            "height": null,
            "justify_content": null,
            "justify_items": null,
            "left": null,
            "margin": null,
            "max_height": null,
            "max_width": null,
            "min_height": null,
            "min_width": null,
            "object_fit": null,
            "object_position": null,
            "order": null,
            "overflow": null,
            "overflow_x": null,
            "overflow_y": null,
            "padding": null,
            "right": null,
            "top": null,
            "visibility": null,
            "width": null
          }
        },
        "406e3f53bfbe41c7a8e30e466f86439f": {
          "model_module": "@jupyter-widgets/base",
          "model_name": "LayoutModel",
          "model_module_version": "1.2.0",
          "state": {
            "_model_module": "@jupyter-widgets/base",
            "_model_module_version": "1.2.0",
            "_model_name": "LayoutModel",
            "_view_count": null,
            "_view_module": "@jupyter-widgets/base",
            "_view_module_version": "1.2.0",
            "_view_name": "LayoutView",
            "align_content": null,
            "align_items": null,
            "align_self": null,
            "border": null,
            "bottom": null,
            "display": null,
            "flex": null,
            "flex_flow": null,
            "grid_area": null,
            "grid_auto_columns": null,
            "grid_auto_flow": null,
            "grid_auto_rows": null,
            "grid_column": null,
            "grid_gap": null,
            "grid_row": null,
            "grid_template_areas": null,
            "grid_template_columns": null,
            "grid_template_rows": null,
            "height": null,
            "justify_content": null,
            "justify_items": null,
            "left": null,
            "margin": null,
            "max_height": null,
            "max_width": null,
            "min_height": null,
            "min_width": null,
            "object_fit": null,
            "object_position": null,
            "order": null,
            "overflow": null,
            "overflow_x": null,
            "overflow_y": null,
            "padding": null,
            "right": null,
            "top": null,
            "visibility": null,
            "width": null
          }
        },
        "3ee42ce9a1934d1fb22684ea28fa0e98": {
          "model_module": "@jupyter-widgets/controls",
          "model_name": "DescriptionStyleModel",
          "model_module_version": "1.5.0",
          "state": {
            "_model_module": "@jupyter-widgets/controls",
            "_model_module_version": "1.5.0",
            "_model_name": "DescriptionStyleModel",
            "_view_count": null,
            "_view_module": "@jupyter-widgets/base",
            "_view_module_version": "1.2.0",
            "_view_name": "StyleView",
            "description_width": ""
          }
        },
        "5b83df22f40f4a34bffa8229919fd68f": {
          "model_module": "@jupyter-widgets/base",
          "model_name": "LayoutModel",
          "model_module_version": "1.2.0",
          "state": {
            "_model_module": "@jupyter-widgets/base",
            "_model_module_version": "1.2.0",
            "_model_name": "LayoutModel",
            "_view_count": null,
            "_view_module": "@jupyter-widgets/base",
            "_view_module_version": "1.2.0",
            "_view_name": "LayoutView",
            "align_content": null,
            "align_items": null,
            "align_self": null,
            "border": null,
            "bottom": null,
            "display": null,
            "flex": null,
            "flex_flow": null,
            "grid_area": null,
            "grid_auto_columns": null,
            "grid_auto_flow": null,
            "grid_auto_rows": null,
            "grid_column": null,
            "grid_gap": null,
            "grid_row": null,
            "grid_template_areas": null,
            "grid_template_columns": null,
            "grid_template_rows": null,
            "height": null,
            "justify_content": null,
            "justify_items": null,
            "left": null,
            "margin": null,
            "max_height": null,
            "max_width": null,
            "min_height": null,
            "min_width": null,
            "object_fit": null,
            "object_position": null,
            "order": null,
            "overflow": null,
            "overflow_x": null,
            "overflow_y": null,
            "padding": null,
            "right": null,
            "top": null,
            "visibility": null,
            "width": null
          }
        },
        "809704e882244d7bba3ecdb711dddd80": {
          "model_module": "@jupyter-widgets/controls",
          "model_name": "ProgressStyleModel",
          "model_module_version": "1.5.0",
          "state": {
            "_model_module": "@jupyter-widgets/controls",
            "_model_module_version": "1.5.0",
            "_model_name": "ProgressStyleModel",
            "_view_count": null,
            "_view_module": "@jupyter-widgets/base",
            "_view_module_version": "1.2.0",
            "_view_name": "StyleView",
            "bar_color": null,
            "description_width": ""
          }
        },
        "28822bc4161e49aea4cbbdaed6116d45": {
          "model_module": "@jupyter-widgets/base",
          "model_name": "LayoutModel",
          "model_module_version": "1.2.0",
          "state": {
            "_model_module": "@jupyter-widgets/base",
            "_model_module_version": "1.2.0",
            "_model_name": "LayoutModel",
            "_view_count": null,
            "_view_module": "@jupyter-widgets/base",
            "_view_module_version": "1.2.0",
            "_view_name": "LayoutView",
            "align_content": null,
            "align_items": null,
            "align_self": null,
            "border": null,
            "bottom": null,
            "display": null,
            "flex": null,
            "flex_flow": null,
            "grid_area": null,
            "grid_auto_columns": null,
            "grid_auto_flow": null,
            "grid_auto_rows": null,
            "grid_column": null,
            "grid_gap": null,
            "grid_row": null,
            "grid_template_areas": null,
            "grid_template_columns": null,
            "grid_template_rows": null,
            "height": null,
            "justify_content": null,
            "justify_items": null,
            "left": null,
            "margin": null,
            "max_height": null,
            "max_width": null,
            "min_height": null,
            "min_width": null,
            "object_fit": null,
            "object_position": null,
            "order": null,
            "overflow": null,
            "overflow_x": null,
            "overflow_y": null,
            "padding": null,
            "right": null,
            "top": null,
            "visibility": null,
            "width": null
          }
        },
        "7046049a4cf84f6d8aef61bb6be93d3a": {
          "model_module": "@jupyter-widgets/controls",
          "model_name": "DescriptionStyleModel",
          "model_module_version": "1.5.0",
          "state": {
            "_model_module": "@jupyter-widgets/controls",
            "_model_module_version": "1.5.0",
            "_model_name": "DescriptionStyleModel",
            "_view_count": null,
            "_view_module": "@jupyter-widgets/base",
            "_view_module_version": "1.2.0",
            "_view_name": "StyleView",
            "description_width": ""
          }
        },
        "c2d43f8452f440b4bc0f07157c15f2fa": {
          "model_module": "@jupyter-widgets/controls",
          "model_name": "HBoxModel",
          "model_module_version": "1.5.0",
          "state": {
            "_dom_classes": [],
            "_model_module": "@jupyter-widgets/controls",
            "_model_module_version": "1.5.0",
            "_model_name": "HBoxModel",
            "_view_count": null,
            "_view_module": "@jupyter-widgets/controls",
            "_view_module_version": "1.5.0",
            "_view_name": "HBoxView",
            "box_style": "",
            "children": [
              "IPY_MODEL_b3063166776e46d584932f0de761cffc",
              "IPY_MODEL_398ca565c1e44a0d9246aa5747c577ee",
              "IPY_MODEL_850d0ae9187f49b9ba23f9d1d3be5406"
            ],
            "layout": "IPY_MODEL_8a67fbb13d364a5b837f8b968fc0739b"
          }
        },
        "b3063166776e46d584932f0de761cffc": {
          "model_module": "@jupyter-widgets/controls",
          "model_name": "HTMLModel",
          "model_module_version": "1.5.0",
          "state": {
            "_dom_classes": [],
            "_model_module": "@jupyter-widgets/controls",
            "_model_module_version": "1.5.0",
            "_model_name": "HTMLModel",
            "_view_count": null,
            "_view_module": "@jupyter-widgets/controls",
            "_view_module_version": "1.5.0",
            "_view_name": "HTMLView",
            "description": "",
            "description_tooltip": null,
            "layout": "IPY_MODEL_a107423fbe3f490a9b0872f29cf55c41",
            "placeholder": "​",
            "style": "IPY_MODEL_6ac4919648394faf85a7197b386f6d26",
            "value": "test_df.csv: 100%"
          }
        },
        "398ca565c1e44a0d9246aa5747c577ee": {
          "model_module": "@jupyter-widgets/controls",
          "model_name": "FloatProgressModel",
          "model_module_version": "1.5.0",
          "state": {
            "_dom_classes": [],
            "_model_module": "@jupyter-widgets/controls",
            "_model_module_version": "1.5.0",
            "_model_name": "FloatProgressModel",
            "_view_count": null,
            "_view_module": "@jupyter-widgets/controls",
            "_view_module_version": "1.5.0",
            "_view_name": "ProgressView",
            "bar_style": "success",
            "description": "",
            "description_tooltip": null,
            "layout": "IPY_MODEL_6464a439f5a6496f9bc0782cc9d5a394",
            "max": 585991,
            "min": 0,
            "orientation": "horizontal",
            "style": "IPY_MODEL_257c52af8284477aacbc7e58fd39502c",
            "value": 585991
          }
        },
        "850d0ae9187f49b9ba23f9d1d3be5406": {
          "model_module": "@jupyter-widgets/controls",
          "model_name": "HTMLModel",
          "model_module_version": "1.5.0",
          "state": {
            "_dom_classes": [],
            "_model_module": "@jupyter-widgets/controls",
            "_model_module_version": "1.5.0",
            "_model_name": "HTMLModel",
            "_view_count": null,
            "_view_module": "@jupyter-widgets/controls",
            "_view_module_version": "1.5.0",
            "_view_name": "HTMLView",
            "description": "",
            "description_tooltip": null,
            "layout": "IPY_MODEL_0e92f36f5d2d447a983cbbde7a7e4bac",
            "placeholder": "​",
            "style": "IPY_MODEL_7c81459a2c634f728acb65acf485c268",
            "value": " 586k/586k [00:00&lt;00:00, 8.86MB/s]"
          }
        },
        "8a67fbb13d364a5b837f8b968fc0739b": {
          "model_module": "@jupyter-widgets/base",
          "model_name": "LayoutModel",
          "model_module_version": "1.2.0",
          "state": {
            "_model_module": "@jupyter-widgets/base",
            "_model_module_version": "1.2.0",
            "_model_name": "LayoutModel",
            "_view_count": null,
            "_view_module": "@jupyter-widgets/base",
            "_view_module_version": "1.2.0",
            "_view_name": "LayoutView",
            "align_content": null,
            "align_items": null,
            "align_self": null,
            "border": null,
            "bottom": null,
            "display": null,
            "flex": null,
            "flex_flow": null,
            "grid_area": null,
            "grid_auto_columns": null,
            "grid_auto_flow": null,
            "grid_auto_rows": null,
            "grid_column": null,
            "grid_gap": null,
            "grid_row": null,
            "grid_template_areas": null,
            "grid_template_columns": null,
            "grid_template_rows": null,
            "height": null,
            "justify_content": null,
            "justify_items": null,
            "left": null,
            "margin": null,
            "max_height": null,
            "max_width": null,
            "min_height": null,
            "min_width": null,
            "object_fit": null,
            "object_position": null,
            "order": null,
            "overflow": null,
            "overflow_x": null,
            "overflow_y": null,
            "padding": null,
            "right": null,
            "top": null,
            "visibility": null,
            "width": null
          }
        },
        "a107423fbe3f490a9b0872f29cf55c41": {
          "model_module": "@jupyter-widgets/base",
          "model_name": "LayoutModel",
          "model_module_version": "1.2.0",
          "state": {
            "_model_module": "@jupyter-widgets/base",
            "_model_module_version": "1.2.0",
            "_model_name": "LayoutModel",
            "_view_count": null,
            "_view_module": "@jupyter-widgets/base",
            "_view_module_version": "1.2.0",
            "_view_name": "LayoutView",
            "align_content": null,
            "align_items": null,
            "align_self": null,
            "border": null,
            "bottom": null,
            "display": null,
            "flex": null,
            "flex_flow": null,
            "grid_area": null,
            "grid_auto_columns": null,
            "grid_auto_flow": null,
            "grid_auto_rows": null,
            "grid_column": null,
            "grid_gap": null,
            "grid_row": null,
            "grid_template_areas": null,
            "grid_template_columns": null,
            "grid_template_rows": null,
            "height": null,
            "justify_content": null,
            "justify_items": null,
            "left": null,
            "margin": null,
            "max_height": null,
            "max_width": null,
            "min_height": null,
            "min_width": null,
            "object_fit": null,
            "object_position": null,
            "order": null,
            "overflow": null,
            "overflow_x": null,
            "overflow_y": null,
            "padding": null,
            "right": null,
            "top": null,
            "visibility": null,
            "width": null
          }
        },
        "6ac4919648394faf85a7197b386f6d26": {
          "model_module": "@jupyter-widgets/controls",
          "model_name": "DescriptionStyleModel",
          "model_module_version": "1.5.0",
          "state": {
            "_model_module": "@jupyter-widgets/controls",
            "_model_module_version": "1.5.0",
            "_model_name": "DescriptionStyleModel",
            "_view_count": null,
            "_view_module": "@jupyter-widgets/base",
            "_view_module_version": "1.2.0",
            "_view_name": "StyleView",
            "description_width": ""
          }
        },
        "6464a439f5a6496f9bc0782cc9d5a394": {
          "model_module": "@jupyter-widgets/base",
          "model_name": "LayoutModel",
          "model_module_version": "1.2.0",
          "state": {
            "_model_module": "@jupyter-widgets/base",
            "_model_module_version": "1.2.0",
            "_model_name": "LayoutModel",
            "_view_count": null,
            "_view_module": "@jupyter-widgets/base",
            "_view_module_version": "1.2.0",
            "_view_name": "LayoutView",
            "align_content": null,
            "align_items": null,
            "align_self": null,
            "border": null,
            "bottom": null,
            "display": null,
            "flex": null,
            "flex_flow": null,
            "grid_area": null,
            "grid_auto_columns": null,
            "grid_auto_flow": null,
            "grid_auto_rows": null,
            "grid_column": null,
            "grid_gap": null,
            "grid_row": null,
            "grid_template_areas": null,
            "grid_template_columns": null,
            "grid_template_rows": null,
            "height": null,
            "justify_content": null,
            "justify_items": null,
            "left": null,
            "margin": null,
            "max_height": null,
            "max_width": null,
            "min_height": null,
            "min_width": null,
            "object_fit": null,
            "object_position": null,
            "order": null,
            "overflow": null,
            "overflow_x": null,
            "overflow_y": null,
            "padding": null,
            "right": null,
            "top": null,
            "visibility": null,
            "width": null
          }
        },
        "257c52af8284477aacbc7e58fd39502c": {
          "model_module": "@jupyter-widgets/controls",
          "model_name": "ProgressStyleModel",
          "model_module_version": "1.5.0",
          "state": {
            "_model_module": "@jupyter-widgets/controls",
            "_model_module_version": "1.5.0",
            "_model_name": "ProgressStyleModel",
            "_view_count": null,
            "_view_module": "@jupyter-widgets/base",
            "_view_module_version": "1.2.0",
            "_view_name": "StyleView",
            "bar_color": null,
            "description_width": ""
          }
        },
        "0e92f36f5d2d447a983cbbde7a7e4bac": {
          "model_module": "@jupyter-widgets/base",
          "model_name": "LayoutModel",
          "model_module_version": "1.2.0",
          "state": {
            "_model_module": "@jupyter-widgets/base",
            "_model_module_version": "1.2.0",
            "_model_name": "LayoutModel",
            "_view_count": null,
            "_view_module": "@jupyter-widgets/base",
            "_view_module_version": "1.2.0",
            "_view_name": "LayoutView",
            "align_content": null,
            "align_items": null,
            "align_self": null,
            "border": null,
            "bottom": null,
            "display": null,
            "flex": null,
            "flex_flow": null,
            "grid_area": null,
            "grid_auto_columns": null,
            "grid_auto_flow": null,
            "grid_auto_rows": null,
            "grid_column": null,
            "grid_gap": null,
            "grid_row": null,
            "grid_template_areas": null,
            "grid_template_columns": null,
            "grid_template_rows": null,
            "height": null,
            "justify_content": null,
            "justify_items": null,
            "left": null,
            "margin": null,
            "max_height": null,
            "max_width": null,
            "min_height": null,
            "min_width": null,
            "object_fit": null,
            "object_position": null,
            "order": null,
            "overflow": null,
            "overflow_x": null,
            "overflow_y": null,
            "padding": null,
            "right": null,
            "top": null,
            "visibility": null,
            "width": null
          }
        },
        "7c81459a2c634f728acb65acf485c268": {
          "model_module": "@jupyter-widgets/controls",
          "model_name": "DescriptionStyleModel",
          "model_module_version": "1.5.0",
          "state": {
            "_model_module": "@jupyter-widgets/controls",
            "_model_module_version": "1.5.0",
            "_model_name": "DescriptionStyleModel",
            "_view_count": null,
            "_view_module": "@jupyter-widgets/base",
            "_view_module_version": "1.2.0",
            "_view_name": "StyleView",
            "description_width": ""
          }
        },
        "8831baa6b42d4c36b509e69c08decd68": {
          "model_module": "@jupyter-widgets/controls",
          "model_name": "HBoxModel",
          "model_module_version": "1.5.0",
          "state": {
            "_dom_classes": [],
            "_model_module": "@jupyter-widgets/controls",
            "_model_module_version": "1.5.0",
            "_model_name": "HBoxModel",
            "_view_count": null,
            "_view_module": "@jupyter-widgets/controls",
            "_view_module_version": "1.5.0",
            "_view_name": "HBoxView",
            "box_style": "",
            "children": [
              "IPY_MODEL_610b1b8aa0214c99867ca41368639e5c",
              "IPY_MODEL_49e358794f7a496e912b5fdde6e694e0",
              "IPY_MODEL_7dbde2c447de4eb7b0a838563b5c9395"
            ],
            "layout": "IPY_MODEL_13a958bd3a1e4d9ab654afb1f7352ee7"
          }
        },
        "610b1b8aa0214c99867ca41368639e5c": {
          "model_module": "@jupyter-widgets/controls",
          "model_name": "HTMLModel",
          "model_module_version": "1.5.0",
          "state": {
            "_dom_classes": [],
            "_model_module": "@jupyter-widgets/controls",
            "_model_module_version": "1.5.0",
            "_model_name": "HTMLModel",
            "_view_count": null,
            "_view_module": "@jupyter-widgets/controls",
            "_view_module_version": "1.5.0",
            "_view_name": "HTMLView",
            "description": "",
            "description_tooltip": null,
            "layout": "IPY_MODEL_13c9106e0ac841c29476edff587c4077",
            "placeholder": "​",
            "style": "IPY_MODEL_e583386edc58493489eeca18b8b21aeb",
            "value": "Generating train split: 100%"
          }
        },
        "49e358794f7a496e912b5fdde6e694e0": {
          "model_module": "@jupyter-widgets/controls",
          "model_name": "FloatProgressModel",
          "model_module_version": "1.5.0",
          "state": {
            "_dom_classes": [],
            "_model_module": "@jupyter-widgets/controls",
            "_model_module_version": "1.5.0",
            "_model_name": "FloatProgressModel",
            "_view_count": null,
            "_view_module": "@jupyter-widgets/controls",
            "_view_module_version": "1.5.0",
            "_view_name": "ProgressView",
            "bar_style": "success",
            "description": "",
            "description_tooltip": null,
            "layout": "IPY_MODEL_98a6930e87a84b21bd78ec8dda417c5a",
            "max": 31232,
            "min": 0,
            "orientation": "horizontal",
            "style": "IPY_MODEL_233e5c4575fd45d1afeaff52c43b6640",
            "value": 31232
          }
        },
        "7dbde2c447de4eb7b0a838563b5c9395": {
          "model_module": "@jupyter-widgets/controls",
          "model_name": "HTMLModel",
          "model_module_version": "1.5.0",
          "state": {
            "_dom_classes": [],
            "_model_module": "@jupyter-widgets/controls",
            "_model_module_version": "1.5.0",
            "_model_name": "HTMLModel",
            "_view_count": null,
            "_view_module": "@jupyter-widgets/controls",
            "_view_module_version": "1.5.0",
            "_view_name": "HTMLView",
            "description": "",
            "description_tooltip": null,
            "layout": "IPY_MODEL_529fd157ca9f463da1b0d76691355164",
            "placeholder": "​",
            "style": "IPY_MODEL_a6ab8d7fb76742968ceaf658813bf0e7",
            "value": " 31232/31232 [00:00&lt;00:00, 74411.48 examples/s]"
          }
        },
        "13a958bd3a1e4d9ab654afb1f7352ee7": {
          "model_module": "@jupyter-widgets/base",
          "model_name": "LayoutModel",
          "model_module_version": "1.2.0",
          "state": {
            "_model_module": "@jupyter-widgets/base",
            "_model_module_version": "1.2.0",
            "_model_name": "LayoutModel",
            "_view_count": null,
            "_view_module": "@jupyter-widgets/base",
            "_view_module_version": "1.2.0",
            "_view_name": "LayoutView",
            "align_content": null,
            "align_items": null,
            "align_self": null,
            "border": null,
            "bottom": null,
            "display": null,
            "flex": null,
            "flex_flow": null,
            "grid_area": null,
            "grid_auto_columns": null,
            "grid_auto_flow": null,
            "grid_auto_rows": null,
            "grid_column": null,
            "grid_gap": null,
            "grid_row": null,
            "grid_template_areas": null,
            "grid_template_columns": null,
            "grid_template_rows": null,
            "height": null,
            "justify_content": null,
            "justify_items": null,
            "left": null,
            "margin": null,
            "max_height": null,
            "max_width": null,
            "min_height": null,
            "min_width": null,
            "object_fit": null,
            "object_position": null,
            "order": null,
            "overflow": null,
            "overflow_x": null,
            "overflow_y": null,
            "padding": null,
            "right": null,
            "top": null,
            "visibility": null,
            "width": null
          }
        },
        "13c9106e0ac841c29476edff587c4077": {
          "model_module": "@jupyter-widgets/base",
          "model_name": "LayoutModel",
          "model_module_version": "1.2.0",
          "state": {
            "_model_module": "@jupyter-widgets/base",
            "_model_module_version": "1.2.0",
            "_model_name": "LayoutModel",
            "_view_count": null,
            "_view_module": "@jupyter-widgets/base",
            "_view_module_version": "1.2.0",
            "_view_name": "LayoutView",
            "align_content": null,
            "align_items": null,
            "align_self": null,
            "border": null,
            "bottom": null,
            "display": null,
            "flex": null,
            "flex_flow": null,
            "grid_area": null,
            "grid_auto_columns": null,
            "grid_auto_flow": null,
            "grid_auto_rows": null,
            "grid_column": null,
            "grid_gap": null,
            "grid_row": null,
            "grid_template_areas": null,
            "grid_template_columns": null,
            "grid_template_rows": null,
            "height": null,
            "justify_content": null,
            "justify_items": null,
            "left": null,
            "margin": null,
            "max_height": null,
            "max_width": null,
            "min_height": null,
            "min_width": null,
            "object_fit": null,
            "object_position": null,
            "order": null,
            "overflow": null,
            "overflow_x": null,
            "overflow_y": null,
            "padding": null,
            "right": null,
            "top": null,
            "visibility": null,
            "width": null
          }
        },
        "e583386edc58493489eeca18b8b21aeb": {
          "model_module": "@jupyter-widgets/controls",
          "model_name": "DescriptionStyleModel",
          "model_module_version": "1.5.0",
          "state": {
            "_model_module": "@jupyter-widgets/controls",
            "_model_module_version": "1.5.0",
            "_model_name": "DescriptionStyleModel",
            "_view_count": null,
            "_view_module": "@jupyter-widgets/base",
            "_view_module_version": "1.2.0",
            "_view_name": "StyleView",
            "description_width": ""
          }
        },
        "98a6930e87a84b21bd78ec8dda417c5a": {
          "model_module": "@jupyter-widgets/base",
          "model_name": "LayoutModel",
          "model_module_version": "1.2.0",
          "state": {
            "_model_module": "@jupyter-widgets/base",
            "_model_module_version": "1.2.0",
            "_model_name": "LayoutModel",
            "_view_count": null,
            "_view_module": "@jupyter-widgets/base",
            "_view_module_version": "1.2.0",
            "_view_name": "LayoutView",
            "align_content": null,
            "align_items": null,
            "align_self": null,
            "border": null,
            "bottom": null,
            "display": null,
            "flex": null,
            "flex_flow": null,
            "grid_area": null,
            "grid_auto_columns": null,
            "grid_auto_flow": null,
            "grid_auto_rows": null,
            "grid_column": null,
            "grid_gap": null,
            "grid_row": null,
            "grid_template_areas": null,
            "grid_template_columns": null,
            "grid_template_rows": null,
            "height": null,
            "justify_content": null,
            "justify_items": null,
            "left": null,
            "margin": null,
            "max_height": null,
            "max_width": null,
            "min_height": null,
            "min_width": null,
            "object_fit": null,
            "object_position": null,
            "order": null,
            "overflow": null,
            "overflow_x": null,
            "overflow_y": null,
            "padding": null,
            "right": null,
            "top": null,
            "visibility": null,
            "width": null
          }
        },
        "233e5c4575fd45d1afeaff52c43b6640": {
          "model_module": "@jupyter-widgets/controls",
          "model_name": "ProgressStyleModel",
          "model_module_version": "1.5.0",
          "state": {
            "_model_module": "@jupyter-widgets/controls",
            "_model_module_version": "1.5.0",
            "_model_name": "ProgressStyleModel",
            "_view_count": null,
            "_view_module": "@jupyter-widgets/base",
            "_view_module_version": "1.2.0",
            "_view_name": "StyleView",
            "bar_color": null,
            "description_width": ""
          }
        },
        "529fd157ca9f463da1b0d76691355164": {
          "model_module": "@jupyter-widgets/base",
          "model_name": "LayoutModel",
          "model_module_version": "1.2.0",
          "state": {
            "_model_module": "@jupyter-widgets/base",
            "_model_module_version": "1.2.0",
            "_model_name": "LayoutModel",
            "_view_count": null,
            "_view_module": "@jupyter-widgets/base",
            "_view_module_version": "1.2.0",
            "_view_name": "LayoutView",
            "align_content": null,
            "align_items": null,
            "align_self": null,
            "border": null,
            "bottom": null,
            "display": null,
            "flex": null,
            "flex_flow": null,
            "grid_area": null,
            "grid_auto_columns": null,
            "grid_auto_flow": null,
            "grid_auto_rows": null,
            "grid_column": null,
            "grid_gap": null,
            "grid_row": null,
            "grid_template_areas": null,
            "grid_template_columns": null,
            "grid_template_rows": null,
            "height": null,
            "justify_content": null,
            "justify_items": null,
            "left": null,
            "margin": null,
            "max_height": null,
            "max_width": null,
            "min_height": null,
            "min_width": null,
            "object_fit": null,
            "object_position": null,
            "order": null,
            "overflow": null,
            "overflow_x": null,
            "overflow_y": null,
            "padding": null,
            "right": null,
            "top": null,
            "visibility": null,
            "width": null
          }
        },
        "a6ab8d7fb76742968ceaf658813bf0e7": {
          "model_module": "@jupyter-widgets/controls",
          "model_name": "DescriptionStyleModel",
          "model_module_version": "1.5.0",
          "state": {
            "_model_module": "@jupyter-widgets/controls",
            "_model_module_version": "1.5.0",
            "_model_name": "DescriptionStyleModel",
            "_view_count": null,
            "_view_module": "@jupyter-widgets/base",
            "_view_module_version": "1.2.0",
            "_view_name": "StyleView",
            "description_width": ""
          }
        },
        "ae0482c3de0144018f548e113fd9db63": {
          "model_module": "@jupyter-widgets/controls",
          "model_name": "HBoxModel",
          "model_module_version": "1.5.0",
          "state": {
            "_dom_classes": [],
            "_model_module": "@jupyter-widgets/controls",
            "_model_module_version": "1.5.0",
            "_model_name": "HBoxModel",
            "_view_count": null,
            "_view_module": "@jupyter-widgets/controls",
            "_view_module_version": "1.5.0",
            "_view_name": "HBoxView",
            "box_style": "",
            "children": [
              "IPY_MODEL_5f3163207a934f4789c2156d51c33a52",
              "IPY_MODEL_07e3ecab6c0741f38c1f032ecd935c28",
              "IPY_MODEL_7b7277562874481784eafa06997640a5"
            ],
            "layout": "IPY_MODEL_54991d4b1f214addbff45c24cb5e2669"
          }
        },
        "5f3163207a934f4789c2156d51c33a52": {
          "model_module": "@jupyter-widgets/controls",
          "model_name": "HTMLModel",
          "model_module_version": "1.5.0",
          "state": {
            "_dom_classes": [],
            "_model_module": "@jupyter-widgets/controls",
            "_model_module_version": "1.5.0",
            "_model_name": "HTMLModel",
            "_view_count": null,
            "_view_module": "@jupyter-widgets/controls",
            "_view_module_version": "1.5.0",
            "_view_name": "HTMLView",
            "description": "",
            "description_tooltip": null,
            "layout": "IPY_MODEL_e4258d3682cb4bed8cbc64bb9edbb68b",
            "placeholder": "​",
            "style": "IPY_MODEL_0dbb728a7d174ab68353b6bd40f4bd21",
            "value": "Generating validation split: 100%"
          }
        },
        "07e3ecab6c0741f38c1f032ecd935c28": {
          "model_module": "@jupyter-widgets/controls",
          "model_name": "FloatProgressModel",
          "model_module_version": "1.5.0",
          "state": {
            "_dom_classes": [],
            "_model_module": "@jupyter-widgets/controls",
            "_model_module_version": "1.5.0",
            "_model_name": "FloatProgressModel",
            "_view_count": null,
            "_view_module": "@jupyter-widgets/controls",
            "_view_module_version": "1.5.0",
            "_view_name": "ProgressView",
            "bar_style": "success",
            "description": "",
            "description_tooltip": null,
            "layout": "IPY_MODEL_25ac3f2a384c478daff94e3cb25b604e",
            "max": 5205,
            "min": 0,
            "orientation": "horizontal",
            "style": "IPY_MODEL_2817af9280f64dcab3e608b0b8857798",
            "value": 5205
          }
        },
        "7b7277562874481784eafa06997640a5": {
          "model_module": "@jupyter-widgets/controls",
          "model_name": "HTMLModel",
          "model_module_version": "1.5.0",
          "state": {
            "_dom_classes": [],
            "_model_module": "@jupyter-widgets/controls",
            "_model_module_version": "1.5.0",
            "_model_name": "HTMLModel",
            "_view_count": null,
            "_view_module": "@jupyter-widgets/controls",
            "_view_module_version": "1.5.0",
            "_view_name": "HTMLView",
            "description": "",
            "description_tooltip": null,
            "layout": "IPY_MODEL_77e9b5a5582d4e9ea3f311e6175b1b95",
            "placeholder": "​",
            "style": "IPY_MODEL_735392eb7226437c8ebe11741b4f94a0",
            "value": " 5205/5205 [00:00&lt;00:00, 59743.67 examples/s]"
          }
        },
        "54991d4b1f214addbff45c24cb5e2669": {
          "model_module": "@jupyter-widgets/base",
          "model_name": "LayoutModel",
          "model_module_version": "1.2.0",
          "state": {
            "_model_module": "@jupyter-widgets/base",
            "_model_module_version": "1.2.0",
            "_model_name": "LayoutModel",
            "_view_count": null,
            "_view_module": "@jupyter-widgets/base",
            "_view_module_version": "1.2.0",
            "_view_name": "LayoutView",
            "align_content": null,
            "align_items": null,
            "align_self": null,
            "border": null,
            "bottom": null,
            "display": null,
            "flex": null,
            "flex_flow": null,
            "grid_area": null,
            "grid_auto_columns": null,
            "grid_auto_flow": null,
            "grid_auto_rows": null,
            "grid_column": null,
            "grid_gap": null,
            "grid_row": null,
            "grid_template_areas": null,
            "grid_template_columns": null,
            "grid_template_rows": null,
            "height": null,
            "justify_content": null,
            "justify_items": null,
            "left": null,
            "margin": null,
            "max_height": null,
            "max_width": null,
            "min_height": null,
            "min_width": null,
            "object_fit": null,
            "object_position": null,
            "order": null,
            "overflow": null,
            "overflow_x": null,
            "overflow_y": null,
            "padding": null,
            "right": null,
            "top": null,
            "visibility": null,
            "width": null
          }
        },
        "e4258d3682cb4bed8cbc64bb9edbb68b": {
          "model_module": "@jupyter-widgets/base",
          "model_name": "LayoutModel",
          "model_module_version": "1.2.0",
          "state": {
            "_model_module": "@jupyter-widgets/base",
            "_model_module_version": "1.2.0",
            "_model_name": "LayoutModel",
            "_view_count": null,
            "_view_module": "@jupyter-widgets/base",
            "_view_module_version": "1.2.0",
            "_view_name": "LayoutView",
            "align_content": null,
            "align_items": null,
            "align_self": null,
            "border": null,
            "bottom": null,
            "display": null,
            "flex": null,
            "flex_flow": null,
            "grid_area": null,
            "grid_auto_columns": null,
            "grid_auto_flow": null,
            "grid_auto_rows": null,
            "grid_column": null,
            "grid_gap": null,
            "grid_row": null,
            "grid_template_areas": null,
            "grid_template_columns": null,
            "grid_template_rows": null,
            "height": null,
            "justify_content": null,
            "justify_items": null,
            "left": null,
            "margin": null,
            "max_height": null,
            "max_width": null,
            "min_height": null,
            "min_width": null,
            "object_fit": null,
            "object_position": null,
            "order": null,
            "overflow": null,
            "overflow_x": null,
            "overflow_y": null,
            "padding": null,
            "right": null,
            "top": null,
            "visibility": null,
            "width": null
          }
        },
        "0dbb728a7d174ab68353b6bd40f4bd21": {
          "model_module": "@jupyter-widgets/controls",
          "model_name": "DescriptionStyleModel",
          "model_module_version": "1.5.0",
          "state": {
            "_model_module": "@jupyter-widgets/controls",
            "_model_module_version": "1.5.0",
            "_model_name": "DescriptionStyleModel",
            "_view_count": null,
            "_view_module": "@jupyter-widgets/base",
            "_view_module_version": "1.2.0",
            "_view_name": "StyleView",
            "description_width": ""
          }
        },
        "25ac3f2a384c478daff94e3cb25b604e": {
          "model_module": "@jupyter-widgets/base",
          "model_name": "LayoutModel",
          "model_module_version": "1.2.0",
          "state": {
            "_model_module": "@jupyter-widgets/base",
            "_model_module_version": "1.2.0",
            "_model_name": "LayoutModel",
            "_view_count": null,
            "_view_module": "@jupyter-widgets/base",
            "_view_module_version": "1.2.0",
            "_view_name": "LayoutView",
            "align_content": null,
            "align_items": null,
            "align_self": null,
            "border": null,
            "bottom": null,
            "display": null,
            "flex": null,
            "flex_flow": null,
            "grid_area": null,
            "grid_auto_columns": null,
            "grid_auto_flow": null,
            "grid_auto_rows": null,
            "grid_column": null,
            "grid_gap": null,
            "grid_row": null,
            "grid_template_areas": null,
            "grid_template_columns": null,
            "grid_template_rows": null,
            "height": null,
            "justify_content": null,
            "justify_items": null,
            "left": null,
            "margin": null,
            "max_height": null,
            "max_width": null,
            "min_height": null,
            "min_width": null,
            "object_fit": null,
            "object_position": null,
            "order": null,
            "overflow": null,
            "overflow_x": null,
            "overflow_y": null,
            "padding": null,
            "right": null,
            "top": null,
            "visibility": null,
            "width": null
          }
        },
        "2817af9280f64dcab3e608b0b8857798": {
          "model_module": "@jupyter-widgets/controls",
          "model_name": "ProgressStyleModel",
          "model_module_version": "1.5.0",
          "state": {
            "_model_module": "@jupyter-widgets/controls",
            "_model_module_version": "1.5.0",
            "_model_name": "ProgressStyleModel",
            "_view_count": null,
            "_view_module": "@jupyter-widgets/base",
            "_view_module_version": "1.2.0",
            "_view_name": "StyleView",
            "bar_color": null,
            "description_width": ""
          }
        },
        "77e9b5a5582d4e9ea3f311e6175b1b95": {
          "model_module": "@jupyter-widgets/base",
          "model_name": "LayoutModel",
          "model_module_version": "1.2.0",
          "state": {
            "_model_module": "@jupyter-widgets/base",
            "_model_module_version": "1.2.0",
            "_model_name": "LayoutModel",
            "_view_count": null,
            "_view_module": "@jupyter-widgets/base",
            "_view_module_version": "1.2.0",
            "_view_name": "LayoutView",
            "align_content": null,
            "align_items": null,
            "align_self": null,
            "border": null,
            "bottom": null,
            "display": null,
            "flex": null,
            "flex_flow": null,
            "grid_area": null,
            "grid_auto_columns": null,
            "grid_auto_flow": null,
            "grid_auto_rows": null,
            "grid_column": null,
            "grid_gap": null,
            "grid_row": null,
            "grid_template_areas": null,
            "grid_template_columns": null,
            "grid_template_rows": null,
            "height": null,
            "justify_content": null,
            "justify_items": null,
            "left": null,
            "margin": null,
            "max_height": null,
            "max_width": null,
            "min_height": null,
            "min_width": null,
            "object_fit": null,
            "object_position": null,
            "order": null,
            "overflow": null,
            "overflow_x": null,
            "overflow_y": null,
            "padding": null,
            "right": null,
            "top": null,
            "visibility": null,
            "width": null
          }
        },
        "735392eb7226437c8ebe11741b4f94a0": {
          "model_module": "@jupyter-widgets/controls",
          "model_name": "DescriptionStyleModel",
          "model_module_version": "1.5.0",
          "state": {
            "_model_module": "@jupyter-widgets/controls",
            "_model_module_version": "1.5.0",
            "_model_name": "DescriptionStyleModel",
            "_view_count": null,
            "_view_module": "@jupyter-widgets/base",
            "_view_module_version": "1.2.0",
            "_view_name": "StyleView",
            "description_width": ""
          }
        },
        "3b1cd4db3c1b469eb15f595299c1a93a": {
          "model_module": "@jupyter-widgets/controls",
          "model_name": "HBoxModel",
          "model_module_version": "1.5.0",
          "state": {
            "_dom_classes": [],
            "_model_module": "@jupyter-widgets/controls",
            "_model_module_version": "1.5.0",
            "_model_name": "HBoxModel",
            "_view_count": null,
            "_view_module": "@jupyter-widgets/controls",
            "_view_module_version": "1.5.0",
            "_view_name": "HBoxView",
            "box_style": "",
            "children": [
              "IPY_MODEL_95cb02ecc5be4a5da33a755b8542f812",
              "IPY_MODEL_9c272dcff8364351b5c0426d683d8997",
              "IPY_MODEL_aa3f1700007e4a96864db79a3d6f3e07"
            ],
            "layout": "IPY_MODEL_5ce6b4dbab344d40965d4f6ac1f6feeb"
          }
        },
        "95cb02ecc5be4a5da33a755b8542f812": {
          "model_module": "@jupyter-widgets/controls",
          "model_name": "HTMLModel",
          "model_module_version": "1.5.0",
          "state": {
            "_dom_classes": [],
            "_model_module": "@jupyter-widgets/controls",
            "_model_module_version": "1.5.0",
            "_model_name": "HTMLModel",
            "_view_count": null,
            "_view_module": "@jupyter-widgets/controls",
            "_view_module_version": "1.5.0",
            "_view_name": "HTMLView",
            "description": "",
            "description_tooltip": null,
            "layout": "IPY_MODEL_5c7dd4e287584f8cb96cd7a89def9383",
            "placeholder": "​",
            "style": "IPY_MODEL_1625074c7179418cb2568e9d603ca55d",
            "value": "Generating test split: 100%"
          }
        },
        "9c272dcff8364351b5c0426d683d8997": {
          "model_module": "@jupyter-widgets/controls",
          "model_name": "FloatProgressModel",
          "model_module_version": "1.5.0",
          "state": {
            "_dom_classes": [],
            "_model_module": "@jupyter-widgets/controls",
            "_model_module_version": "1.5.0",
            "_model_name": "FloatProgressModel",
            "_view_count": null,
            "_view_module": "@jupyter-widgets/controls",
            "_view_module_version": "1.5.0",
            "_view_name": "ProgressView",
            "bar_style": "success",
            "description": "",
            "description_tooltip": null,
            "layout": "IPY_MODEL_8f96d69e848943feae724cad937d0bf0",
            "max": 5206,
            "min": 0,
            "orientation": "horizontal",
            "style": "IPY_MODEL_b0b7358a885645cb8e2c257eb9f404a5",
            "value": 5206
          }
        },
        "aa3f1700007e4a96864db79a3d6f3e07": {
          "model_module": "@jupyter-widgets/controls",
          "model_name": "HTMLModel",
          "model_module_version": "1.5.0",
          "state": {
            "_dom_classes": [],
            "_model_module": "@jupyter-widgets/controls",
            "_model_module_version": "1.5.0",
            "_model_name": "HTMLModel",
            "_view_count": null,
            "_view_module": "@jupyter-widgets/controls",
            "_view_module_version": "1.5.0",
            "_view_name": "HTMLView",
            "description": "",
            "description_tooltip": null,
            "layout": "IPY_MODEL_2de8d0df102a4b1f8b296a1929c20578",
            "placeholder": "​",
            "style": "IPY_MODEL_46ce93d80fd849c4b157ee85e9c46c16",
            "value": " 5206/5206 [00:00&lt;00:00, 51186.74 examples/s]"
          }
        },
        "5ce6b4dbab344d40965d4f6ac1f6feeb": {
          "model_module": "@jupyter-widgets/base",
          "model_name": "LayoutModel",
          "model_module_version": "1.2.0",
          "state": {
            "_model_module": "@jupyter-widgets/base",
            "_model_module_version": "1.2.0",
            "_model_name": "LayoutModel",
            "_view_count": null,
            "_view_module": "@jupyter-widgets/base",
            "_view_module_version": "1.2.0",
            "_view_name": "LayoutView",
            "align_content": null,
            "align_items": null,
            "align_self": null,
            "border": null,
            "bottom": null,
            "display": null,
            "flex": null,
            "flex_flow": null,
            "grid_area": null,
            "grid_auto_columns": null,
            "grid_auto_flow": null,
            "grid_auto_rows": null,
            "grid_column": null,
            "grid_gap": null,
            "grid_row": null,
            "grid_template_areas": null,
            "grid_template_columns": null,
            "grid_template_rows": null,
            "height": null,
            "justify_content": null,
            "justify_items": null,
            "left": null,
            "margin": null,
            "max_height": null,
            "max_width": null,
            "min_height": null,
            "min_width": null,
            "object_fit": null,
            "object_position": null,
            "order": null,
            "overflow": null,
            "overflow_x": null,
            "overflow_y": null,
            "padding": null,
            "right": null,
            "top": null,
            "visibility": null,
            "width": null
          }
        },
        "5c7dd4e287584f8cb96cd7a89def9383": {
          "model_module": "@jupyter-widgets/base",
          "model_name": "LayoutModel",
          "model_module_version": "1.2.0",
          "state": {
            "_model_module": "@jupyter-widgets/base",
            "_model_module_version": "1.2.0",
            "_model_name": "LayoutModel",
            "_view_count": null,
            "_view_module": "@jupyter-widgets/base",
            "_view_module_version": "1.2.0",
            "_view_name": "LayoutView",
            "align_content": null,
            "align_items": null,
            "align_self": null,
            "border": null,
            "bottom": null,
            "display": null,
            "flex": null,
            "flex_flow": null,
            "grid_area": null,
            "grid_auto_columns": null,
            "grid_auto_flow": null,
            "grid_auto_rows": null,
            "grid_column": null,
            "grid_gap": null,
            "grid_row": null,
            "grid_template_areas": null,
            "grid_template_columns": null,
            "grid_template_rows": null,
            "height": null,
            "justify_content": null,
            "justify_items": null,
            "left": null,
            "margin": null,
            "max_height": null,
            "max_width": null,
            "min_height": null,
            "min_width": null,
            "object_fit": null,
            "object_position": null,
            "order": null,
            "overflow": null,
            "overflow_x": null,
            "overflow_y": null,
            "padding": null,
            "right": null,
            "top": null,
            "visibility": null,
            "width": null
          }
        },
        "1625074c7179418cb2568e9d603ca55d": {
          "model_module": "@jupyter-widgets/controls",
          "model_name": "DescriptionStyleModel",
          "model_module_version": "1.5.0",
          "state": {
            "_model_module": "@jupyter-widgets/controls",
            "_model_module_version": "1.5.0",
            "_model_name": "DescriptionStyleModel",
            "_view_count": null,
            "_view_module": "@jupyter-widgets/base",
            "_view_module_version": "1.2.0",
            "_view_name": "StyleView",
            "description_width": ""
          }
        },
        "8f96d69e848943feae724cad937d0bf0": {
          "model_module": "@jupyter-widgets/base",
          "model_name": "LayoutModel",
          "model_module_version": "1.2.0",
          "state": {
            "_model_module": "@jupyter-widgets/base",
            "_model_module_version": "1.2.0",
            "_model_name": "LayoutModel",
            "_view_count": null,
            "_view_module": "@jupyter-widgets/base",
            "_view_module_version": "1.2.0",
            "_view_name": "LayoutView",
            "align_content": null,
            "align_items": null,
            "align_self": null,
            "border": null,
            "bottom": null,
            "display": null,
            "flex": null,
            "flex_flow": null,
            "grid_area": null,
            "grid_auto_columns": null,
            "grid_auto_flow": null,
            "grid_auto_rows": null,
            "grid_column": null,
            "grid_gap": null,
            "grid_row": null,
            "grid_template_areas": null,
            "grid_template_columns": null,
            "grid_template_rows": null,
            "height": null,
            "justify_content": null,
            "justify_items": null,
            "left": null,
            "margin": null,
            "max_height": null,
            "max_width": null,
            "min_height": null,
            "min_width": null,
            "object_fit": null,
            "object_position": null,
            "order": null,
            "overflow": null,
            "overflow_x": null,
            "overflow_y": null,
            "padding": null,
            "right": null,
            "top": null,
            "visibility": null,
            "width": null
          }
        },
        "b0b7358a885645cb8e2c257eb9f404a5": {
          "model_module": "@jupyter-widgets/controls",
          "model_name": "ProgressStyleModel",
          "model_module_version": "1.5.0",
          "state": {
            "_model_module": "@jupyter-widgets/controls",
            "_model_module_version": "1.5.0",
            "_model_name": "ProgressStyleModel",
            "_view_count": null,
            "_view_module": "@jupyter-widgets/base",
            "_view_module_version": "1.2.0",
            "_view_name": "StyleView",
            "bar_color": null,
            "description_width": ""
          }
        },
        "2de8d0df102a4b1f8b296a1929c20578": {
          "model_module": "@jupyter-widgets/base",
          "model_name": "LayoutModel",
          "model_module_version": "1.2.0",
          "state": {
            "_model_module": "@jupyter-widgets/base",
            "_model_module_version": "1.2.0",
            "_model_name": "LayoutModel",
            "_view_count": null,
            "_view_module": "@jupyter-widgets/base",
            "_view_module_version": "1.2.0",
            "_view_name": "LayoutView",
            "align_content": null,
            "align_items": null,
            "align_self": null,
            "border": null,
            "bottom": null,
            "display": null,
            "flex": null,
            "flex_flow": null,
            "grid_area": null,
            "grid_auto_columns": null,
            "grid_auto_flow": null,
            "grid_auto_rows": null,
            "grid_column": null,
            "grid_gap": null,
            "grid_row": null,
            "grid_template_areas": null,
            "grid_template_columns": null,
            "grid_template_rows": null,
            "height": null,
            "justify_content": null,
            "justify_items": null,
            "left": null,
            "margin": null,
            "max_height": null,
            "max_width": null,
            "min_height": null,
            "min_width": null,
            "object_fit": null,
            "object_position": null,
            "order": null,
            "overflow": null,
            "overflow_x": null,
            "overflow_y": null,
            "padding": null,
            "right": null,
            "top": null,
            "visibility": null,
            "width": null
          }
        },
        "46ce93d80fd849c4b157ee85e9c46c16": {
          "model_module": "@jupyter-widgets/controls",
          "model_name": "DescriptionStyleModel",
          "model_module_version": "1.5.0",
          "state": {
            "_model_module": "@jupyter-widgets/controls",
            "_model_module_version": "1.5.0",
            "_model_name": "DescriptionStyleModel",
            "_view_count": null,
            "_view_module": "@jupyter-widgets/base",
            "_view_module_version": "1.2.0",
            "_view_name": "StyleView",
            "description_width": ""
          }
        }
      }
    }
  },
  "cells": [
    {
      "cell_type": "markdown",
      "metadata": {
        "id": "view-in-github",
        "colab_type": "text"
      },
      "source": [
        "<a href=\"https://colab.research.google.com/github/valerysukmanyuk/hse_python_101/blob/main/w/workbook/5_nlp_libraries.ipynb\" target=\"_parent\"><img src=\"https://colab.research.google.com/assets/colab-badge.svg\" alt=\"Open In Colab\"/></a>"
      ]
    },
    {
      "cell_type": "markdown",
      "source": [
        "# Подготовка\n",
        "В этом воркбуке мы познакомимся с библиотеками для обработки естественного языка и отработаем цикл FOR."
      ],
      "metadata": {
        "id": "T3ypiQzM_yon"
      }
    },
    {
      "cell_type": "markdown",
      "source": [
        "**HuggingFace Datasets**\n",
        "\n",
        "HuggingFace - платформа для работы с моделями с архитектурой Transformer для обработки текстов и не только!\n",
        "\n",
        "Datasets дает доступ к коллекциям данных и позволяет создавать свои наборы для машинного обучения.\n",
        "\n",
        "`pip install` - команда shell для загрузки библиотеки\n",
        "\n",
        "`-q` - параметр \"quiet\", не выводит не экран подробную информацию о процессе загрузки библиотеки\n",
        "\n",
        "`!` - символ для объявления shell-команд"
      ],
      "metadata": {
        "id": "Zoavyuv3Bfax"
      }
    },
    {
      "cell_type": "code",
      "source": [
        "!pip install -q datasets"
      ],
      "metadata": {
        "id": "IDkAQDPE4Hin",
        "colab": {
          "base_uri": "https://localhost:8080/"
        },
        "outputId": "cd6650a8-651b-4623-97b5-81f004de68d0"
      },
      "execution_count": 2,
      "outputs": [
        {
          "output_type": "stream",
          "name": "stdout",
          "text": [
            "\u001b[?25l   \u001b[90m━━━━━━━━━━━━━━━━━━━━━━━━━━━━━━━━━━━━━━━━\u001b[0m \u001b[32m0.0/480.6 kB\u001b[0m \u001b[31m?\u001b[0m eta \u001b[36m-:--:--\u001b[0m\r\u001b[2K   \u001b[91m━━━━━━━━━━━━━━━━━━━\u001b[0m\u001b[91m╸\u001b[0m\u001b[90m━━━━━━━━━━━━━━━━━━━━\u001b[0m \u001b[32m235.5/480.6 kB\u001b[0m \u001b[31m6.8 MB/s\u001b[0m eta \u001b[36m0:00:01\u001b[0m\r\u001b[2K   \u001b[90m━━━━━━━━━━━━━━━━━━━━━━━━━━━━━━━━━━━━━━━━\u001b[0m \u001b[32m480.6/480.6 kB\u001b[0m \u001b[31m7.5 MB/s\u001b[0m eta \u001b[36m0:00:00\u001b[0m\n",
            "\u001b[?25h\u001b[?25l   \u001b[90m━━━━━━━━━━━━━━━━━━━━━━━━━━━━━━━━━━━━━━━━\u001b[0m \u001b[32m0.0/116.3 kB\u001b[0m \u001b[31m?\u001b[0m eta \u001b[36m-:--:--\u001b[0m\r\u001b[2K   \u001b[90m━━━━━━━━━━━━━━━━━━━━━━━━━━━━━━━━━━━━━━━━\u001b[0m \u001b[32m116.3/116.3 kB\u001b[0m \u001b[31m9.7 MB/s\u001b[0m eta \u001b[36m0:00:00\u001b[0m\n",
            "\u001b[?25h\u001b[?25l   \u001b[90m━━━━━━━━━━━━━━━━━━━━━━━━━━━━━━━━━━━━━━━━\u001b[0m \u001b[32m0.0/179.3 kB\u001b[0m \u001b[31m?\u001b[0m eta \u001b[36m-:--:--\u001b[0m\r\u001b[2K   \u001b[90m━━━━━━━━━━━━━━━━━━━━━━━━━━━━━━━━━━━━━━━━\u001b[0m \u001b[32m179.3/179.3 kB\u001b[0m \u001b[31m14.6 MB/s\u001b[0m eta \u001b[36m0:00:00\u001b[0m\n",
            "\u001b[2K   \u001b[90m━━━━━━━━━━━━━━━━━━━━━━━━━━━━━━━━━━━━━━━━\u001b[0m \u001b[32m134.8/134.8 kB\u001b[0m \u001b[31m11.4 MB/s\u001b[0m eta \u001b[36m0:00:00\u001b[0m\n",
            "\u001b[2K   \u001b[90m━━━━━━━━━━━━━━━━━━━━━━━━━━━━━━━━━━━━━━━━\u001b[0m \u001b[32m194.1/194.1 kB\u001b[0m \u001b[31m16.4 MB/s\u001b[0m eta \u001b[36m0:00:00\u001b[0m\n",
            "\u001b[?25h\u001b[31mERROR: pip's dependency resolver does not currently take into account all the packages that are installed. This behaviour is the source of the following dependency conflicts.\n",
            "gcsfs 2024.10.0 requires fsspec==2024.10.0, but you have fsspec 2024.9.0 which is incompatible.\u001b[0m\u001b[31m\n",
            "\u001b[0m"
          ]
        }
      ]
    },
    {
      "cell_type": "markdown",
      "source": [
        "Загрузим датасет для анализа тональности текстов"
      ],
      "metadata": {
        "id": "dTikHZH4CaFo"
      }
    },
    {
      "cell_type": "code",
      "source": [
        "from datasets import load_dataset\n",
        "\n",
        "dataset = load_dataset(\"Sp1786/multiclass-sentiment-analysis-dataset\")"
      ],
      "metadata": {
        "colab": {
          "base_uri": "https://localhost:8080/",
          "height": 365,
          "referenced_widgets": [
            "eeb14ba6d3e540a289ac0cf89bd9af3a",
            "69af4223bbe2475283fafafbfc23ee37",
            "bb82263a37c14354a6a83514fe44b55a",
            "2ace6cb397344e27a2eec4e5f9956440",
            "441ac66ba702443d81b34ecf5ec27131",
            "f16ae03e8a484e7fad3978ae1f229cce",
            "1ef5656d2a81458f82fb10ab44ebde0b",
            "659f67a2492c4353ab69433c97aab19c",
            "9182586cfb164871994e1f76e2db0c68",
            "bc7d46134c974310802a9dd3f86aaba1",
            "9920cad5ff5440b489076dc3eba02a80",
            "419b449016d6438f8a81594315c33889",
            "33e5b90baa9d49a987ccfbe5f72a6664",
            "8ec8195e58d84e68a697eeba6a57e82f",
            "2916bccde2534511937d510378ab0e1c",
            "cd9dc20e367b45de889e3f043e44aa3e",
            "2dffa32768cd40d28c68877d6c2a34d4",
            "c9fd35524f8a452d8882787ab7c97ca9",
            "727d5231400f427abd3248667375d593",
            "421b28d1afea4691a42006ecdd263eff",
            "0f9387eb438c43aba547ef24806c3200",
            "a47abaee8f834909b5d2e97c162d1a05",
            "98fdb42f5d784631aec9d63825999f24",
            "9119c4c3e8874e30ba08d4f18e059895",
            "848b07c585b34215bd117dc6369ce552",
            "e45e3eb2bb9c4b8693c3aae2daac6d95",
            "fa5a5a16d643439792b73cd30283facb",
            "406e3f53bfbe41c7a8e30e466f86439f",
            "3ee42ce9a1934d1fb22684ea28fa0e98",
            "5b83df22f40f4a34bffa8229919fd68f",
            "809704e882244d7bba3ecdb711dddd80",
            "28822bc4161e49aea4cbbdaed6116d45",
            "7046049a4cf84f6d8aef61bb6be93d3a",
            "c2d43f8452f440b4bc0f07157c15f2fa",
            "b3063166776e46d584932f0de761cffc",
            "398ca565c1e44a0d9246aa5747c577ee",
            "850d0ae9187f49b9ba23f9d1d3be5406",
            "8a67fbb13d364a5b837f8b968fc0739b",
            "a107423fbe3f490a9b0872f29cf55c41",
            "6ac4919648394faf85a7197b386f6d26",
            "6464a439f5a6496f9bc0782cc9d5a394",
            "257c52af8284477aacbc7e58fd39502c",
            "0e92f36f5d2d447a983cbbde7a7e4bac",
            "7c81459a2c634f728acb65acf485c268",
            "8831baa6b42d4c36b509e69c08decd68",
            "610b1b8aa0214c99867ca41368639e5c",
            "49e358794f7a496e912b5fdde6e694e0",
            "7dbde2c447de4eb7b0a838563b5c9395",
            "13a958bd3a1e4d9ab654afb1f7352ee7",
            "13c9106e0ac841c29476edff587c4077",
            "e583386edc58493489eeca18b8b21aeb",
            "98a6930e87a84b21bd78ec8dda417c5a",
            "233e5c4575fd45d1afeaff52c43b6640",
            "529fd157ca9f463da1b0d76691355164",
            "a6ab8d7fb76742968ceaf658813bf0e7",
            "ae0482c3de0144018f548e113fd9db63",
            "5f3163207a934f4789c2156d51c33a52",
            "07e3ecab6c0741f38c1f032ecd935c28",
            "7b7277562874481784eafa06997640a5",
            "54991d4b1f214addbff45c24cb5e2669",
            "e4258d3682cb4bed8cbc64bb9edbb68b",
            "0dbb728a7d174ab68353b6bd40f4bd21",
            "25ac3f2a384c478daff94e3cb25b604e",
            "2817af9280f64dcab3e608b0b8857798",
            "77e9b5a5582d4e9ea3f311e6175b1b95",
            "735392eb7226437c8ebe11741b4f94a0",
            "3b1cd4db3c1b469eb15f595299c1a93a",
            "95cb02ecc5be4a5da33a755b8542f812",
            "9c272dcff8364351b5c0426d683d8997",
            "aa3f1700007e4a96864db79a3d6f3e07",
            "5ce6b4dbab344d40965d4f6ac1f6feeb",
            "5c7dd4e287584f8cb96cd7a89def9383",
            "1625074c7179418cb2568e9d603ca55d",
            "8f96d69e848943feae724cad937d0bf0",
            "b0b7358a885645cb8e2c257eb9f404a5",
            "2de8d0df102a4b1f8b296a1929c20578",
            "46ce93d80fd849c4b157ee85e9c46c16"
          ]
        },
        "id": "lx1PhjGlBUrK",
        "outputId": "e8984872-8942-4ef2-9346-bc9cca7ee614"
      },
      "execution_count": 3,
      "outputs": [
        {
          "output_type": "stream",
          "name": "stderr",
          "text": [
            "/usr/local/lib/python3.10/dist-packages/huggingface_hub/utils/_auth.py:94: UserWarning: \n",
            "The secret `HF_TOKEN` does not exist in your Colab secrets.\n",
            "To authenticate with the Hugging Face Hub, create a token in your settings tab (https://huggingface.co/settings/tokens), set it as secret in your Google Colab and restart your session.\n",
            "You will be able to reuse this secret in all of your notebooks.\n",
            "Please note that authentication is recommended but still optional to access public models or datasets.\n",
            "  warnings.warn(\n"
          ]
        },
        {
          "output_type": "display_data",
          "data": {
            "text/plain": [
              "README.md:   0%|          | 0.00/1.72k [00:00<?, ?B/s]"
            ],
            "application/vnd.jupyter.widget-view+json": {
              "version_major": 2,
              "version_minor": 0,
              "model_id": "eeb14ba6d3e540a289ac0cf89bd9af3a"
            }
          },
          "metadata": {}
        },
        {
          "output_type": "display_data",
          "data": {
            "text/plain": [
              "train_df.csv:   0%|          | 0.00/3.56M [00:00<?, ?B/s]"
            ],
            "application/vnd.jupyter.widget-view+json": {
              "version_major": 2,
              "version_minor": 0,
              "model_id": "419b449016d6438f8a81594315c33889"
            }
          },
          "metadata": {}
        },
        {
          "output_type": "display_data",
          "data": {
            "text/plain": [
              "val_df.csv:   0%|          | 0.00/601k [00:00<?, ?B/s]"
            ],
            "application/vnd.jupyter.widget-view+json": {
              "version_major": 2,
              "version_minor": 0,
              "model_id": "98fdb42f5d784631aec9d63825999f24"
            }
          },
          "metadata": {}
        },
        {
          "output_type": "display_data",
          "data": {
            "text/plain": [
              "test_df.csv:   0%|          | 0.00/586k [00:00<?, ?B/s]"
            ],
            "application/vnd.jupyter.widget-view+json": {
              "version_major": 2,
              "version_minor": 0,
              "model_id": "c2d43f8452f440b4bc0f07157c15f2fa"
            }
          },
          "metadata": {}
        },
        {
          "output_type": "display_data",
          "data": {
            "text/plain": [
              "Generating train split:   0%|          | 0/31232 [00:00<?, ? examples/s]"
            ],
            "application/vnd.jupyter.widget-view+json": {
              "version_major": 2,
              "version_minor": 0,
              "model_id": "8831baa6b42d4c36b509e69c08decd68"
            }
          },
          "metadata": {}
        },
        {
          "output_type": "display_data",
          "data": {
            "text/plain": [
              "Generating validation split:   0%|          | 0/5205 [00:00<?, ? examples/s]"
            ],
            "application/vnd.jupyter.widget-view+json": {
              "version_major": 2,
              "version_minor": 0,
              "model_id": "ae0482c3de0144018f548e113fd9db63"
            }
          },
          "metadata": {}
        },
        {
          "output_type": "display_data",
          "data": {
            "text/plain": [
              "Generating test split:   0%|          | 0/5206 [00:00<?, ? examples/s]"
            ],
            "application/vnd.jupyter.widget-view+json": {
              "version_major": 2,
              "version_minor": 0,
              "model_id": "3b1cd4db3c1b469eb15f595299c1a93a"
            }
          },
          "metadata": {}
        }
      ]
    },
    {
      "cell_type": "markdown",
      "source": [
        "Проведем анализ!\n",
        "\n",
        "Структура объекта dataset довольно сложная, но удобная для интерпретации.\n",
        "\n",
        "У нас есть 3 выборки: train, validation и test.\n",
        "\n",
        "В каждой выборке 4 столбца:\n",
        "\n",
        "- ID элемента датасета, он нужен, чтобы все значения были уникальными, как в реляционной БД\n",
        "- text, label, sentiment"
      ],
      "metadata": {
        "id": "g9CAEMZkCdX0"
      }
    },
    {
      "cell_type": "code",
      "source": [
        "dataset"
      ],
      "metadata": {
        "colab": {
          "base_uri": "https://localhost:8080/"
        },
        "id": "lE8JMz9fCfNn",
        "outputId": "3ec6772c-627d-4492-c337-60c6f8591031"
      },
      "execution_count": 4,
      "outputs": [
        {
          "output_type": "execute_result",
          "data": {
            "text/plain": [
              "DatasetDict({\n",
              "    train: Dataset({\n",
              "        features: ['id', 'text', 'label', 'sentiment'],\n",
              "        num_rows: 31232\n",
              "    })\n",
              "    validation: Dataset({\n",
              "        features: ['id', 'text', 'label', 'sentiment'],\n",
              "        num_rows: 5205\n",
              "    })\n",
              "    test: Dataset({\n",
              "        features: ['id', 'text', 'label', 'sentiment'],\n",
              "        num_rows: 5206\n",
              "    })\n",
              "})"
            ]
          },
          "metadata": {},
          "execution_count": 4
        }
      ]
    },
    {
      "cell_type": "markdown",
      "source": [
        "Обычно для обработки таких данных используется библиотека pandas, но пока мы учимся, будем использовать нативный метод - цикл FOR.\n",
        "\n",
        "#**Задание 1**\n",
        "\n",
        "Для начала проверим, сбалансирован ли наш датасет."
      ],
      "metadata": {
        "id": "HsCrxJtaDAIn"
      }
    },
    {
      "cell_type": "code",
      "source": [
        "# Какие метки есть в датасете?\n",
        "\n",
        "# Создаем множество set()\n",
        "# Множество - это список уникальных элементов\n",
        "# Этот тип данных можно использовать как фильтр для наших меток\n",
        "unique_labels = set()\n",
        "\n",
        "# Для каждого уникального элемента из обучающей выборки dataset['train']\n",
        "# Добавим элемент в множество unique_labels\n",
        "for i in dataset['train']:\n",
        "  unique_labels.add(i['sentiment'])\n",
        "\n",
        "unique_labels"
      ],
      "metadata": {
        "colab": {
          "base_uri": "https://localhost:8080/"
        },
        "id": "IsKBV5wsCf7G",
        "outputId": "bd46fea9-eedd-4bcf-ad7e-c32b4994f514"
      },
      "execution_count": 5,
      "outputs": [
        {
          "output_type": "execute_result",
          "data": {
            "text/plain": [
              "{'negative', 'neutral', 'positive'}"
            ]
          },
          "metadata": {},
          "execution_count": 5
        }
      ]
    },
    {
      "cell_type": "code",
      "source": [
        "# Теперь посчитаем, сколько представителей каждой метки в выборках train, validation и test\n",
        "# Подсказки:\n",
        "# - создайте пустые переменные, куда вы будете вносить количество меток\n",
        "# - используйте цикл for и условия if\n",
        "# - обновляйте значения переменных методом счетчика (каждое новое совпадение: counter += 1)\n",
        "# - выведите на экран значения переменных для каждой из трех выборок\n",
        "\n",
        "positives_valid = 0\n",
        "negatives_valid = 0\n",
        "neutrals_valid = 0\n",
        "\n",
        "positives_test = 0\n",
        "negatives_test = 0\n",
        "neutrals_test = 0\n",
        "\n",
        "positives_train = 0\n",
        "negatives_train = 0\n",
        "neutrals_train = 0\n",
        "\n",
        "for i in dataset['validation']:\n",
        "  if i['sentiment'] == 'neutral':\n",
        "    neutrals_valid += 1\n",
        "  elif i['sentiment'] == 'positive':\n",
        "    positives_valid += 1\n",
        "  elif i['sentiment'] == 'negative':\n",
        "    negatives_valid += 1\n",
        "\n",
        "for i in dataset['train']:\n",
        "  if i['sentiment'] == 'neutral':\n",
        "    neutrals_train += 1\n",
        "  elif i['sentiment'] == 'positive':\n",
        "    positives_train += 1\n",
        "  elif i['sentiment'] == 'negative':\n",
        "    negatives_train += 1\n",
        "\n",
        "for i in dataset['test']:\n",
        "  if i['sentiment'] == 'neutral':\n",
        "    neutrals_test += 1\n",
        "  elif i['sentiment'] == 'positive':\n",
        "    positives_test += 1\n",
        "  elif i['sentiment'] == 'negative':\n",
        "    negatives_test += 1\n",
        "\n",
        "print(f'Данные тестового датасета\\nПоложительные: {positives_test}\\nНегативные: {negatives_test}\\nНейтральные: {neutrals_test}\\n\\nДанные тренировочного датасета\\nПоложительные: {positives_train}\\nНегативные: {negatives_train}\\nНейтральные: {neutrals_train}\\n\\nДанные валидационного датасета\\nПоложительные: {positives_valid}\\nНегативные: {negatives_valid}\\nНейтральные: {neutrals_valid}')\n"
      ],
      "metadata": {
        "colab": {
          "base_uri": "https://localhost:8080/"
        },
        "id": "KnPchjNYDOcu",
        "outputId": "a18e3799-55e0-4237-a6f2-2227c0973820"
      },
      "execution_count": 6,
      "outputs": [
        {
          "output_type": "stream",
          "name": "stdout",
          "text": [
            "Данные тестового датасета\n",
            "Положительные: 1730\n",
            "Негативные: 1546\n",
            "Нейтральные: 1930\n",
            "\n",
            "Данные тренировочного датасета\n",
            "Положительные: 10478\n",
            "Негативные: 9105\n",
            "Нейтральные: 11649\n",
            "\n",
            "Данные валидационного датасета\n",
            "Положительные: 1760\n",
            "Негативные: 1517\n",
            "Нейтральные: 1928\n"
          ]
        }
      ]
    },
    {
      "cell_type": "code",
      "source": [
        "# Используйте арифметические операции, чтобы посчитать процентное соотношение или долю каждого класса в каждой выборке\n",
        "\n",
        "train_all = positives_train + negatives_train + neutrals_train\n",
        "test_all = positives_test + negatives_test + neutrals_test\n",
        "valid_all = positives_valid + negatives_valid + neutrals_valid\n",
        "\n",
        "train_neut_per = round((neutrals_train/train_all) * 100)\n",
        "train_pos_per = round((positives_train/train_all) * 100)\n",
        "train_neg_per = round((negatives_train/train_all) * 100)\n",
        "\n",
        "test_neut_per = round((neutrals_test/test_all) * 100)\n",
        "test_pos_per = round((positives_test/test_all) * 100)\n",
        "test_neg_per = round((negatives_test/test_all) * 100)\n",
        "\n",
        "valid_neut_per = round((neutrals_valid/valid_all) * 100)\n",
        "valid_pos_per = round((positives_valid/valid_all) * 100)\n",
        "valid_neg_per = round((negatives_valid/valid_all) * 100)\n",
        "\n",
        "print(f'Данные тренировочного датасета\\nПоложительные: {train_pos_per}%\\nНегативные: {train_neg_per}%\\nНейтральные: {train_neut_per}%\\n\\nДанные тестового датасета\\nПоложительные: {test_pos_per }%\\nНегативные: {test_neg_per }%\\nНейтральные: {test_neut_per}%\\n\\nДанные валидационного датасета\\nПоложительные: {valid_pos_per}%\\nНегативные: {valid_neg_per}%\\nНейтральные: {valid_neut_per}%')"
      ],
      "metadata": {
        "colab": {
          "base_uri": "https://localhost:8080/"
        },
        "id": "a8fO7lvcGR5T",
        "outputId": "ffcb8919-daf8-4633-be0e-021d538cbc7a"
      },
      "execution_count": 7,
      "outputs": [
        {
          "output_type": "stream",
          "name": "stdout",
          "text": [
            "Данные тренировочного датасета\n",
            "Положительные: 34%\n",
            "Негативные: 29%\n",
            "Нейтральные: 37%\n",
            "\n",
            "Данные тестового датасета\n",
            "Положительные: 33%\n",
            "Негативные: 30%\n",
            "Нейтральные: 37%\n",
            "\n",
            "Данные валидационного датасета\n",
            "Положительные: 34%\n",
            "Негативные: 29%\n",
            "Нейтральные: 37%\n"
          ]
        }
      ]
    },
    {
      "cell_type": "code",
      "source": [
        "# Создадим визуализацию\n",
        "# Будем работать с библиотекой matplotlip\n",
        "# Numpy - библиотека для обработки массивов данных - обеспечивает работу matplotlib\n",
        "from matplotlib import pyplot as plt\n",
        "import numpy as np\n",
        "\n",
        "# Задаем список меток\n",
        "labels = [\"Positives in train\", \"Negatives in train\", \"Neutrals in train\"]\n",
        "# Задаем значения для каждой метки, процентное соотношение (только для обучающей выборки)\n",
        "data = [train_pos_per, train_neg_per, train_neut_per]\n",
        "\n",
        "# Код для отрисовки круговой диаграммы\n",
        "fig = plt.figure(figsize=(10, 7))\n",
        "plt.pie(data, labels=labels, autopct='%1.f%%') # autopict создает числовые подписи и использует целочисленное форматирование\n",
        "\n",
        "# Показать график\n",
        "plt.show()"
      ],
      "metadata": {
        "colab": {
          "base_uri": "https://localhost:8080/",
          "height": 576
        },
        "id": "Ucjw-9whGqTw",
        "outputId": "00acaf0c-c313-4595-9a5c-c695f7c00db0"
      },
      "execution_count": 8,
      "outputs": [
        {
          "output_type": "display_data",
          "data": {
            "text/plain": [
              "<Figure size 1000x700 with 1 Axes>"
            ],
            "image/png": "[encoded data removed]"
          },
          "metadata": {}
        }
      ]
    },
    {
      "cell_type": "code",
      "source": [
        "# Сделаем то же самое для проверочной выборки\n",
        "# Задаем список меток\n",
        "labels = [\"Positives in valid\", \"Negatives in valid\", \"Neutrals in valid\"]\n",
        "# Задаем значения для каждой метки, процентное соотношение (только для обучающей выборки)\n",
        "data = [valid_pos_per, valid_neg_per, valid_neut_per]\n",
        "\n",
        "# Код для отрисовки круговой диаграммы\n",
        "fig = plt.figure(figsize=(10, 7))\n",
        "plt.pie(data, labels=labels, autopct='%1.f%%') # autopict создает числовые подписи и использует целочисленное форматирование\n",
        "\n",
        "# Показать график\n",
        "plt.show()"
      ],
      "metadata": {
        "id": "q6cBY84aH2E0",
        "colab": {
          "base_uri": "https://localhost:8080/",
          "height": 576
        },
        "outputId": "694e8504-649a-4637-b914-56183227cfbf"
      },
      "execution_count": 9,
      "outputs": [
        {
          "output_type": "display_data",
          "data": {
            "text/plain": [
              "<Figure size 1000x700 with 1 Axes>"
            ],
            "image/png": "[encoded data removed]"
          },
          "metadata": {}
        }
      ]
    },
    {
      "cell_type": "code",
      "source": [
        "# Сделаем то же самое для тестовой выборки\n",
        "# Задаем список меток\n",
        "labels = [\"Positives in test\", \"Negatives in test\", \"Neutrals in test\"]\n",
        "# Задаем значения для каждой метки, процентное соотношение (только для обучающей выборки)\n",
        "data = [test_pos_per, test_neg_per, test_neut_per]\n",
        "\n",
        "# Код для отрисовки круговой диаграммы\n",
        "fig = plt.figure(figsize=(10, 7))\n",
        "plt.pie(data, labels=labels, autopct='%1.f%%') # autopict создает числовые подписи и использует целочисленное форматирование\n",
        "\n",
        "# Показать график\n",
        "plt.show()"
      ],
      "metadata": {
        "id": "P6kstLAHH7kJ",
        "colab": {
          "base_uri": "https://localhost:8080/",
          "height": 576
        },
        "outputId": "a5d2618b-41bb-4d57-9db6-fe3ef5e3911b"
      },
      "execution_count": 10,
      "outputs": [
        {
          "output_type": "display_data",
          "data": {
            "text/plain": [
              "<Figure size 1000x700 with 1 Axes>"
            ],
            "image/png": "[encoded data removed]"
          },
          "metadata": {}
        }
      ]
    },
    {
      "cell_type": "markdown",
      "source": [
        "#**Задание 2**\n",
        "\n",
        "Займемся обработкой естественного языка.\n",
        "\n",
        "Познакомимся с библиотекой SpaCy для обработки текстов."
      ],
      "metadata": {
        "id": "FXJuNfwVGBBc"
      }
    },
    {
      "cell_type": "code",
      "source": [
        "# Загрузка spaCy\n",
        "import spacy\n",
        "\n",
        "# Загрузка библиотеки для визуализации spaCy\n",
        "from spacy import displacy\n",
        "\n",
        "# Инициализация инструментов SpaCy для английского (для каждого языка загружается свой вариант)\n",
        "nlp = spacy.load('en_core_web_sm')\n",
        "\n",
        "# Выведем доступные инструменты\n",
        "print(nlp.pipe_names)"
      ],
      "metadata": {
        "colab": {
          "base_uri": "https://localhost:8080/"
        },
        "id": "TZDla6PuaF4C",
        "outputId": "f3d062ff-934f-4047-ebbd-96e12458d41c"
      },
      "execution_count": 11,
      "outputs": [
        {
          "output_type": "stream",
          "name": "stdout",
          "text": [
            "['tok2vec', 'tagger', 'parser', 'attribute_ruler', 'lemmatizer', 'ner']\n"
          ]
        }
      ]
    },
    {
      "cell_type": "markdown",
      "source": [
        "Токенизация SpaCy производится с помощью цикла for"
      ],
      "metadata": {
        "id": "dee2sTbia0vF"
      }
    },
    {
      "cell_type": "code",
      "source": [
        "# Образец текста из нашего датасета\n",
        "sample = dataset['train'][0]['text']\n",
        "sample"
      ],
      "metadata": {
        "colab": {
          "base_uri": "https://localhost:8080/",
          "height": 35
        },
        "id": "2mDcYdu4bCOQ",
        "outputId": "8c36a7ca-8dda-4924-9c42-bf197b80b7ee"
      },
      "execution_count": 12,
      "outputs": [
        {
          "output_type": "execute_result",
          "data": {
            "text/plain": [
              "'Cooking microwave pizzas, yummy'"
            ],
            "application/vnd.google.colaboratory.intrinsic+json": {
              "type": "string"
            }
          },
          "metadata": {},
          "execution_count": 12
        }
      ]
    },
    {
      "cell_type": "code",
      "source": [
        "# Для работы со SpaCy, _нужно_ привести все к нужному виду\n",
        "# Для этого загружаем в nlp наш текст\n",
        "doc = nlp(sample)\n",
        "doc # Визуально ничего не изменилось, но теперь это объект класса SpaCy, который можно обработать инструментами NLP"
      ],
      "metadata": {
        "colab": {
          "base_uri": "https://localhost:8080/"
        },
        "id": "RnqH0yzEbHKC",
        "outputId": "2efab8ec-9438-4334-a877-7de12a16ecf7"
      },
      "execution_count": 13,
      "outputs": [
        {
          "output_type": "execute_result",
          "data": {
            "text/plain": [
              "Cooking microwave pizzas, yummy"
            ]
          },
          "metadata": {},
          "execution_count": 13
        }
      ]
    },
    {
      "cell_type": "code",
      "source": [
        "# Токенизация\n",
        "for token in doc:\n",
        "    print(token.text)"
      ],
      "metadata": {
        "colab": {
          "base_uri": "https://localhost:8080/"
        },
        "id": "Gx0LPZAUZ0A0",
        "outputId": "c9d64460-74a1-490c-9241-757574a73eb3"
      },
      "execution_count": 14,
      "outputs": [
        {
          "output_type": "stream",
          "name": "stdout",
          "text": [
            "Cooking\n",
            "microwave\n",
            "pizzas\n",
            ",\n",
            "yummy\n"
          ]
        }
      ]
    },
    {
      "cell_type": "code",
      "source": [
        "# Частересная разметка\n",
        "for token in doc:\n",
        "    print(token.pos_)"
      ],
      "metadata": {
        "colab": {
          "base_uri": "https://localhost:8080/"
        },
        "id": "pQc83BZGbfk6",
        "outputId": "2467a45b-19df-4422-da36-1d769fa7cb22"
      },
      "execution_count": 15,
      "outputs": [
        {
          "output_type": "stream",
          "name": "stdout",
          "text": [
            "NOUN\n",
            "NOUN\n",
            "NOUN\n",
            "PUNCT\n",
            "ADJ\n"
          ]
        }
      ]
    },
    {
      "cell_type": "code",
      "source": [
        "# Лемматизация\n",
        "for token in doc:\n",
        "    print(token.lemma_)"
      ],
      "metadata": {
        "colab": {
          "base_uri": "https://localhost:8080/"
        },
        "id": "ZWgH4deYbpjJ",
        "outputId": "e199d28c-d63a-43f7-88e4-b7c75eaf08bf"
      },
      "execution_count": 16,
      "outputs": [
        {
          "output_type": "stream",
          "name": "stdout",
          "text": [
            "cooking\n",
            "microwave\n",
            "pizza\n",
            ",\n",
            "yummy\n"
          ]
        }
      ]
    },
    {
      "cell_type": "code",
      "source": [
        "# Синтаксическая роль (составляющие)\n",
        "for token in doc:\n",
        "    print(token.tag_)"
      ],
      "metadata": {
        "colab": {
          "base_uri": "https://localhost:8080/"
        },
        "id": "DUseEIwMbzrW",
        "outputId": "623609d4-8b88-40e1-a41b-95a7be6b8a7a"
      },
      "execution_count": 17,
      "outputs": [
        {
          "output_type": "stream",
          "name": "stdout",
          "text": [
            "NN\n",
            "NN\n",
            "NNS\n",
            ",\n",
            "JJ\n"
          ]
        }
      ]
    },
    {
      "cell_type": "code",
      "source": [
        "# Синтаксическая роль (зависимости)\n",
        "for token in doc:\n",
        "\n",
        "    print(token.dep_)"
      ],
      "metadata": {
        "colab": {
          "base_uri": "https://localhost:8080/"
        },
        "id": "PoiI91_2b361",
        "outputId": "044e083d-899e-4516-e419-9e5136494afb"
      },
      "execution_count": 18,
      "outputs": [
        {
          "output_type": "stream",
          "name": "stdout",
          "text": [
            "compound\n",
            "compound\n",
            "ROOT\n",
            "punct\n",
            "amod\n"
          ]
        }
      ]
    },
    {
      "cell_type": "code",
      "source": [
        "# Морфологическая разметка\n",
        "for token in doc:\n",
        "    print(token.morph)"
      ],
      "metadata": {
        "colab": {
          "base_uri": "https://localhost:8080/"
        },
        "id": "WwAJ1_U6cTfX",
        "outputId": "e0994159-c1a1-4fc8-d4c0-0b76e79ed882"
      },
      "execution_count": 19,
      "outputs": [
        {
          "output_type": "stream",
          "name": "stdout",
          "text": [
            "Number=Sing\n",
            "Number=Sing\n",
            "Number=Plur\n",
            "PunctType=Comm\n",
            "Degree=Pos\n"
          ]
        }
      ]
    },
    {
      "cell_type": "markdown",
      "source": [
        "Задание!\n",
        "\n",
        "1. Сохраним в отдельную переменную список текстов из тестовой выборки"
      ],
      "metadata": {
        "id": "D6E9WuBOdFMc"
      }
    },
    {
      "cell_type": "code",
      "source": [
        "import pprint\n",
        "texts = dataset['test']['text']\n",
        "pprint.pprint(texts[:5])\n",
        "# Выведите первые 5 текстов"
      ],
      "metadata": {
        "colab": {
          "base_uri": "https://localhost:8080/"
        },
        "id": "J6O0t2zhcb_G",
        "outputId": "2c464f4a-ec43-4e93-afe3-cc008abd12a5"
      },
      "execution_count": 89,
      "outputs": [
        {
          "output_type": "stream",
          "name": "stdout",
          "text": [
            "['getting cds ready for tour',\n",
            " ' MC, happy mother`s day to your mom ;).. love yah',\n",
            " 'A year from now is graduation....i am pretty sure i`m not ready for it!?!?!?',\n",
            " ' because you had chips and sale w/o me',\n",
            " 'Great for organising my work life balance']\n"
          ]
        }
      ]
    },
    {
      "cell_type": "markdown",
      "source": [
        "2. Создадим список токенов для каждого текста с помощью SpaCy"
      ],
      "metadata": {
        "id": "eRgN1Qr4dnZT"
      }
    },
    {
      "cell_type": "code",
      "source": [
        "tokens_list = []\n",
        "for text in texts[:100]:\n",
        "  doc_1 = nlp(text)\n",
        "  tokens = [token.text for token in doc_1]\n",
        "  tokens_list.append(tokens)\n",
        "\n",
        "tokens_list[:5]\n",
        "\n",
        "# Не забудьте применить nlp!\n",
        "# Выведите первые 5 текстов\n",
        "# Обработка может занять много времени, достаточно обработать первые 100 текстов"
      ],
      "metadata": {
        "colab": {
          "base_uri": "https://localhost:8080/"
        },
        "id": "SXsyPzricnwo",
        "outputId": "e822999d-d859-43e3-bb13-315826d7e55e"
      },
      "execution_count": 21,
      "outputs": [
        {
          "output_type": "execute_result",
          "data": {
            "text/plain": [
              "[['getting', 'cds', 'ready', 'for', 'tour'],\n",
              " [' ',\n",
              "  'MC',\n",
              "  ',',\n",
              "  'happy',\n",
              "  'mother`s',\n",
              "  'day',\n",
              "  'to',\n",
              "  'your',\n",
              "  'mom',\n",
              "  ';)',\n",
              "  '..',\n",
              "  'love',\n",
              "  'yah'],\n",
              " ['A',\n",
              "  'year',\n",
              "  'from',\n",
              "  'now',\n",
              "  'is',\n",
              "  'graduation',\n",
              "  '....',\n",
              "  'i',\n",
              "  'am',\n",
              "  'pretty',\n",
              "  'sure',\n",
              "  'i`m',\n",
              "  'not',\n",
              "  'ready',\n",
              "  'for',\n",
              "  'it',\n",
              "  '!',\n",
              "  '?',\n",
              "  '!',\n",
              "  '?',\n",
              "  '!',\n",
              "  '?'],\n",
              " [' ', 'because', 'you', 'had', 'chips', 'and', 'sale', 'w/o', 'me'],\n",
              " ['Great', 'for', 'organising', 'my', 'work', 'life', 'balance']]"
            ]
          },
          "metadata": {},
          "execution_count": 21
        }
      ]
    },
    {
      "cell_type": "markdown",
      "source": [
        "3. Частеречная разметка: создаем список частей речи для каждого токена"
      ],
      "metadata": {
        "id": "OXzB_0AifeeT"
      }
    },
    {
      "cell_type": "code",
      "source": [
        "pos_tokens = []\n",
        "for text in texts[:100]:\n",
        "  doc_1 = nlp(text)\n",
        "  tokens = [token.pos_ for token in doc_1]\n",
        "  pos_tokens.append(tokens)\n",
        "\n",
        "pos_tokens[:5]"
      ],
      "metadata": {
        "colab": {
          "base_uri": "https://localhost:8080/"
        },
        "id": "RZI3ZOOGePY2",
        "outputId": "d3e34c61-176a-489e-8713-769b6a018ba1"
      },
      "execution_count": 22,
      "outputs": [
        {
          "output_type": "execute_result",
          "data": {
            "text/plain": [
              "[['VERB', 'NOUN', 'ADJ', 'ADP', 'NOUN'],\n",
              " ['SPACE',\n",
              "  'PROPN',\n",
              "  'PUNCT',\n",
              "  'ADJ',\n",
              "  'PROPN',\n",
              "  'NOUN',\n",
              "  'ADP',\n",
              "  'PRON',\n",
              "  'NOUN',\n",
              "  'PUNCT',\n",
              "  'PUNCT',\n",
              "  'NOUN',\n",
              "  'NOUN'],\n",
              " ['DET',\n",
              "  'NOUN',\n",
              "  'ADP',\n",
              "  'ADV',\n",
              "  'AUX',\n",
              "  'NOUN',\n",
              "  'PUNCT',\n",
              "  'PRON',\n",
              "  'AUX',\n",
              "  'ADV',\n",
              "  'ADJ',\n",
              "  'PROPN',\n",
              "  'PART',\n",
              "  'ADJ',\n",
              "  'ADP',\n",
              "  'PRON',\n",
              "  'PUNCT',\n",
              "  'PUNCT',\n",
              "  'PUNCT',\n",
              "  'PUNCT',\n",
              "  'PUNCT',\n",
              "  'PUNCT'],\n",
              " ['SPACE', 'SCONJ', 'PRON', 'VERB', 'NOUN', 'CCONJ', 'NOUN', 'ADP', 'PRON'],\n",
              " ['ADJ', 'ADP', 'VERB', 'PRON', 'NOUN', 'NOUN', 'NOUN']]"
            ]
          },
          "metadata": {},
          "execution_count": 22
        }
      ]
    },
    {
      "cell_type": "markdown",
      "source": [
        "4. Проверим точность разметки. С помощью range выведем для первых пяти текстов пары \"слово - его частеречный тег\"."
      ],
      "metadata": {
        "id": "JECq3nC7f7K6"
      }
    },
    {
      "cell_type": "code",
      "source": [
        "# Это задание сложнее, чем кажется\n",
        "# Подсказка:\n",
        "# for i in range(len(list)) - это итерация по _длине_ списка;\n",
        "for i in range(5):\n",
        "    print(f'\\nТекст {i}\\n')\n",
        "    for k in range(len(tokens_list[i])):\n",
        "      print(f'{tokens_list[i][k]} - {pos_tokens[i][k]}')\n",
        "# в переменную i сохраняется порядковый номер текущего элемента списка;\n",
        "# если у нас есть несколько сопоставимых списков одинаковой длины,\n",
        "# то на каждом шаге итерации мы можем выводить элементы одного порядка из разных списков,\n",
        "# например for i in range(len(list)) поможет вывести tokens[4] и pos[4] одновременно, в одном блоке кода"
      ],
      "metadata": {
        "colab": {
          "base_uri": "https://localhost:8080/"
        },
        "id": "kZv7_1Ptfxm-",
        "outputId": "f27bae34-efac-4dfb-f56b-65b0fd6515c5"
      },
      "execution_count": 26,
      "outputs": [
        {
          "output_type": "stream",
          "name": "stdout",
          "text": [
            "\n",
            "Текст 0\n",
            "\n",
            "getting - VERB\n",
            "cds - NOUN\n",
            "ready - ADJ\n",
            "for - ADP\n",
            "tour - NOUN\n",
            "\n",
            "Текст 1\n",
            "\n",
            "  - SPACE\n",
            "MC - PROPN\n",
            ", - PUNCT\n",
            "happy - ADJ\n",
            "mother`s - PROPN\n",
            "day - NOUN\n",
            "to - ADP\n",
            "your - PRON\n",
            "mom - NOUN\n",
            ";) - PUNCT\n",
            ".. - PUNCT\n",
            "love - NOUN\n",
            "yah - NOUN\n",
            "\n",
            "Текст 2\n",
            "\n",
            "A - DET\n",
            "year - NOUN\n",
            "from - ADP\n",
            "now - ADV\n",
            "is - AUX\n",
            "graduation - NOUN\n",
            ".... - PUNCT\n",
            "i - PRON\n",
            "am - AUX\n",
            "pretty - ADV\n",
            "sure - ADJ\n",
            "i`m - PROPN\n",
            "not - PART\n",
            "ready - ADJ\n",
            "for - ADP\n",
            "it - PRON\n",
            "! - PUNCT\n",
            "? - PUNCT\n",
            "! - PUNCT\n",
            "? - PUNCT\n",
            "! - PUNCT\n",
            "? - PUNCT\n",
            "\n",
            "Текст 3\n",
            "\n",
            "  - SPACE\n",
            "because - SCONJ\n",
            "you - PRON\n",
            "had - VERB\n",
            "chips - NOUN\n",
            "and - CCONJ\n",
            "sale - NOUN\n",
            "w/o - ADP\n",
            "me - PRON\n",
            "\n",
            "Текст 4\n",
            "\n",
            "Great - ADJ\n",
            "for - ADP\n",
            "organising - VERB\n",
            "my - PRON\n",
            "work - NOUN\n",
            "life - NOUN\n",
            "balance - NOUN\n"
          ]
        }
      ]
    },
    {
      "cell_type": "markdown",
      "source": [
        "5. Разметка именованных сущностей\n",
        "\n",
        "Вернемся к списку токенов, который мы создали в пункте 2. Выберем небольшой срез, например тексты 7-19."
      ],
      "metadata": {
        "id": "yLxnLhVgh1ge"
      }
    },
    {
      "cell_type": "code",
      "source": [
        "# Для каждого текста из выбранного среза: допишите этот код\n",
        "  # Применим к тексту nlp: допишите этот код\n",
        "for text in texts[7:19]:\n",
        "    text = nlp(str(text))\n",
        "    print([(ent, ent.label_) for ent in text.ents]) # Выведем именованную сущность и ее лейбл"
      ],
      "metadata": {
        "colab": {
          "base_uri": "https://localhost:8080/"
        },
        "id": "Jw8szOaGgeTe",
        "outputId": "912696f2-0fa8-40bf-a67a-0a86fe7ede55"
      },
      "execution_count": 96,
      "outputs": [
        {
          "output_type": "stream",
          "name": "stdout",
          "text": [
            "[(1st, 'ORDINAL'), (2890, 'CARDINAL')]\n",
            "[(first, 'ORDINAL')]\n",
            "[(today, 'DATE'), (i`m, 'NORP')]\n",
            "[]\n",
            "[(Audi, 'ORG')]\n",
            "[]\n",
            "[(REALLY, 'GPE')]\n",
            "[(i`m, 'NORP')]\n",
            "[]\n",
            "[]\n",
            "[(TY, 'ORG')]\n",
            "[(recent years, 'DATE')]\n"
          ]
        }
      ]
    },
    {
      "cell_type": "markdown",
      "source": [
        "Здесь мы используем новый тип данных - кортеж `(entity, label)`\n",
        "\n",
        "Кортеж очень похож на список. Разница только в том, что кортеж - неизменяемый, т.е. это список, в котором ничего нельзя изменить, удалить или добавить.\n",
        "\n",
        "Кортежи занимают меньше памяти, т.к. у них меньше свойств. Они защищают данные от изменений и могут применяться в сложных структурах, например, служить ключом для словаря `dict`.\n",
        "\n",
        "На практике, их удобно применять для разметки данных  методами NLP."
      ],
      "metadata": {
        "id": "jUAfUQaSlGrM"
      }
    },
    {
      "cell_type": "code",
      "source": [
        "# Выберите любой текст и визуализируйте его разметку именованных сущностей\n",
        "displacy.render(nlp(texts[7]), style=\"ent\", jupyter=True)"
      ],
      "metadata": {
        "colab": {
          "base_uri": "https://localhost:8080/",
          "height": 52
        },
        "id": "0aVWyT0gjSoP",
        "outputId": "dbaa62b5-db95-4b3a-af83-02544c6cf179"
      },
      "execution_count": 97,
      "outputs": [
        {
          "output_type": "display_data",
          "data": {
            "text/plain": [
              "<IPython.core.display.HTML object>"
            ],
            "text/html": [
              "<span class=\"tex2jax_ignore\"><div class=\"entities\" style=\"line-height: 2.5; direction: ltr\"> remember the guy who \n",
              "<mark class=\"entity\" style=\"background: #e4e7d2; padding: 0.45em 0.6em; margin: 0 0.25em; line-height: 1; border-radius: 0.35em;\">\n",
              "    1st\n",
              "    <span style=\"font-size: 0.8em; font-weight: bold; line-height: 1; border-radius: 0.35em; vertical-align: middle; margin-left: 0.5rem\">ORDINAL</span>\n",
              "</mark>\n",
              " #tweetbud you! ~&gt; _\n",
              "<mark class=\"entity\" style=\"background: #e4e7d2; padding: 0.45em 0.6em; margin: 0 0.25em; line-height: 1; border-radius: 0.35em;\">\n",
              "    2890\n",
              "    <span style=\"font-size: 0.8em; font-weight: bold; line-height: 1; border-radius: 0.35em; vertical-align: middle; margin-left: 0.5rem\">CARDINAL</span>\n",
              "</mark>\n",
              "  help him get 900 flwrs &amp; make him smile!</div></span>"
            ]
          },
          "metadata": {}
        }
      ]
    }
  ]
}