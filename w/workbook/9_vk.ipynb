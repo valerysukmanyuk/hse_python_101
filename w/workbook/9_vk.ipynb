{
 "cells": [
  {
   "cell_type": "markdown",
   "metadata": {
    "id": "t_Qke13Qyf0f"
   },
   "source": [
    "Установка VK API"
   ]
  },
  {
   "cell_type": "code",
   "execution_count": 1,
   "metadata": {
    "colab": {
     "base_uri": "https://localhost:8080/"
    },
    "id": "Iuh2-xTvWnQh",
    "outputId": "c57698f4-5b80-4ef1-84ba-fe4d09acd81a"
   },
   "outputs": [
    {
     "name": "stdout",
     "output_type": "stream",
     "text": [
      "Collecting vk_api\n",
      "  Downloading vk_api-11.9.9-py3-none-any.whl.metadata (2.0 kB)\n",
      "Requirement already satisfied: requests in c:\\users\\mrpec\\appdata\\local\\programs\\python\\python312\\lib\\site-packages (from vk_api) (2.32.3)\n",
      "Requirement already satisfied: charset-normalizer<4,>=2 in c:\\users\\mrpec\\appdata\\local\\programs\\python\\python312\\lib\\site-packages (from requests->vk_api) (3.3.2)\n",
      "Requirement already satisfied: idna<4,>=2.5 in c:\\users\\mrpec\\appdata\\local\\programs\\python\\python312\\lib\\site-packages (from requests->vk_api) (3.10)\n",
      "Requirement already satisfied: urllib3<3,>=1.21.1 in c:\\users\\mrpec\\appdata\\local\\programs\\python\\python312\\lib\\site-packages (from requests->vk_api) (2.2.3)\n",
      "Requirement already satisfied: certifi>=2017.4.17 in c:\\users\\mrpec\\appdata\\local\\programs\\python\\python312\\lib\\site-packages (from requests->vk_api) (2024.8.30)\n",
      "Downloading vk_api-11.9.9-py3-none-any.whl (48 kB)\n",
      "Installing collected packages: vk_api\n",
      "Successfully installed vk_api-11.9.9\n"
     ]
    }
   ],
   "source": [
    "!pip install vk_api"
   ]
  },
  {
   "cell_type": "markdown",
   "metadata": {
    "id": "xoyz9Mc8yjO0"
   },
   "source": [
    "Получаем токен на vkhost;\n",
    "\n",
    "- выбираем vk.com\n",
    "\n",
    "- принимаем условия\n",
    "\n",
    "- копируем код из строки браузера (да-да, там, где написано \"не копируйте\")\n",
    "\n",
    "Токен живет 1 час, он расположен между `https://oauth.vk.com/blank.html#access_token=` и `user_id=61895623`\n",
    "\n",
    "```\n",
    "https://oauth.vk.com/blank.html#access_token=ЗДЕСЬ ВАШ ТОКЕН&user_id=61895623\n",
    "```\n",
    "\n",
    "Токен привязан к вашему IP, поэтому запускаем его локально!"
   ]
  },
  {
   "cell_type": "code",
   "execution_count": null,
   "metadata": {
    "id": "lhcaWDOBZVw3"
   },
   "outputs": [],
   "source": [
    "# https://vkhost.github.io/\n",
    "\n",
    "import vk_api\n",
    "\n",
    "vkApiSession= vk_api.VkApi(token=\"Тут был мой токен\")\n",
    "\n",
    "vk = vkApiSession.get_api()"
   ]
  },
  {
   "cell_type": "markdown",
   "metadata": {
    "id": "bdEwTErH0j75"
   },
   "source": [
    "`-20629724` - ID паблика \"Хабр\" ВК\n",
    "\n",
    "ID пользователей имеют вид `00000000`\n",
    "\n",
    "ID сообществ имеют вид `-00000000`\n",
    "\n",
    "Выгрузим 100 верхних постов и выведем результат"
   ]
  },
  {
   "cell_type": "code",
   "execution_count": 8,
   "metadata": {
    "colab": {
     "base_uri": "https://localhost:8080/",
     "height": 304
    },
    "id": "P0-u3YXgyduT",
    "outputId": "a7e727d9-0c45-43b0-a9ea-e6530fab0388"
   },
   "outputs": [
    {
     "data": {
      "text/plain": [
       "[{'inner_type': 'wall_wallpost',\n",
       "  'ads_easy_promote': {'type': 2,\n",
       "   'text': 'Что-то пошло не так.',\n",
       "   'label_text': '',\n",
       "   'button_text': '',\n",
       "   'is_ad_not_easy': False},\n",
       "  'is_pinned': 1,\n",
       "  'comments': {'can_post': 1, 'count': 0, 'groups_can_post': True},\n",
       "  'marked_as_ads': 0,\n",
       "  'compact_attachments_before_cut': 0,\n",
       "  'hash': 'gkKkfNZQ2GxnsmpNq5IjuS7xPKhB',\n",
       "  'type': 'post',\n",
       "  'push_subscription': {'is_subscribed': False},\n",
       "  'attachments': [{'type': 'photo',\n",
       "    'photo': {'album_id': -7,\n",
       "     'date': 1734013862,\n",
       "     'id': 457329654,\n",
       "     'owner_id': -20629724,\n",
       "     'access_key': 'f062ff4ce48961ee82',\n",
       "     'post_id': 1600618,\n",
       "     'sizes': [{'height': 68,\n",
       "       'type': 'm',\n",
       "       'width': 130,\n",
       "       'url': 'https://sun9-7.userapi.com/s/v1/ig2/cFb1GdMDaR19GH0HgS7tVX-22fjAkU4ZXd1yy5fj1A6SZiD9VhUm5Coa_4C9-U_9y-Te6gP601W3fEv7O6ju3lAG.jpg?quality=96&as=32x17,48x25,72x38,108x57,160x84,240x126,360x189,480x252,540x283,640x336,720x378,1080x567,1200x630&from=bu&u=tGllxbgVlnSW1ZLZVdEe5Gk7MsLWqdR79krCE6HPJz0&cs=130x68'},\n",
       "      {'height': 87,\n",
       "       'type': 'o',\n",
       "       'width': 130,\n",
       "       'url': 'https://sun9-7.userapi.com/s/v1/ig2/cFb1GdMDaR19GH0HgS7tVX-22fjAkU4ZXd1yy5fj1A6SZiD9VhUm5Coa_4C9-U_9y-Te6gP601W3fEv7O6ju3lAG.jpg?quality=96&as=32x17,48x25,72x38,108x57,160x84,240x126,360x189,480x252,540x283,640x336,720x378,1080x567,1200x630&from=bu&u=tGllxbgVlnSW1ZLZVdEe5Gk7MsLWqdR79krCE6HPJz0&cs=130x87'},\n",
       "      {'height': 133,\n",
       "       'type': 'p',\n",
       "       'width': 200,\n",
       "       'url': 'https://sun9-7.userapi.com/s/v1/ig2/cFb1GdMDaR19GH0HgS7tVX-22fjAkU4ZXd1yy5fj1A6SZiD9VhUm5Coa_4C9-U_9y-Te6gP601W3fEv7O6ju3lAG.jpg?quality=96&as=32x17,48x25,72x38,108x57,160x84,240x126,360x189,480x252,540x283,640x336,720x378,1080x567,1200x630&from=bu&u=tGllxbgVlnSW1ZLZVdEe5Gk7MsLWqdR79krCE6HPJz0&cs=200x133'},\n",
       "      {'height': 213,\n",
       "       'type': 'q',\n",
       "       'width': 320,\n",
       "       'url': 'https://sun9-7.userapi.com/s/v1/ig2/cFb1GdMDaR19GH0HgS7tVX-22fjAkU4ZXd1yy5fj1A6SZiD9VhUm5Coa_4C9-U_9y-Te6gP601W3fEv7O6ju3lAG.jpg?quality=96&as=32x17,48x25,72x38,108x57,160x84,240x126,360x189,480x252,540x283,640x336,720x378,1080x567,1200x630&from=bu&u=tGllxbgVlnSW1ZLZVdEe5Gk7MsLWqdR79krCE6HPJz0&cs=320x213'},\n",
       "      {'height': 340,\n",
       "       'type': 'r',\n",
       "       'width': 510,\n",
       "       'url': 'https://sun9-7.userapi.com/s/v1/ig2/cFb1GdMDaR19GH0HgS7tVX-22fjAkU4ZXd1yy5fj1A6SZiD9VhUm5Coa_4C9-U_9y-Te6gP601W3fEv7O6ju3lAG.jpg?quality=96&as=32x17,48x25,72x38,108x57,160x84,240x126,360x189,480x252,540x283,640x336,720x378,1080x567,1200x630&from=bu&u=tGllxbgVlnSW1ZLZVdEe5Gk7MsLWqdR79krCE6HPJz0&cs=510x340'},\n",
       "      {'height': 39,\n",
       "       'type': 's',\n",
       "       'width': 75,\n",
       "       'url': 'https://sun9-7.userapi.com/s/v1/ig2/cFb1GdMDaR19GH0HgS7tVX-22fjAkU4ZXd1yy5fj1A6SZiD9VhUm5Coa_4C9-U_9y-Te6gP601W3fEv7O6ju3lAG.jpg?quality=96&as=32x17,48x25,72x38,108x57,160x84,240x126,360x189,480x252,540x283,640x336,720x378,1080x567,1200x630&from=bu&u=tGllxbgVlnSW1ZLZVdEe5Gk7MsLWqdR79krCE6HPJz0&cs=75x39'},\n",
       "      {'height': 317,\n",
       "       'type': 'x',\n",
       "       'width': 604,\n",
       "       'url': 'https://sun9-7.userapi.com/s/v1/ig2/cFb1GdMDaR19GH0HgS7tVX-22fjAkU4ZXd1yy5fj1A6SZiD9VhUm5Coa_4C9-U_9y-Te6gP601W3fEv7O6ju3lAG.jpg?quality=96&as=32x17,48x25,72x38,108x57,160x84,240x126,360x189,480x252,540x283,640x336,720x378,1080x567,1200x630&from=bu&u=tGllxbgVlnSW1ZLZVdEe5Gk7MsLWqdR79krCE6HPJz0&cs=604x317'},\n",
       "      {'height': 424,\n",
       "       'type': 'y',\n",
       "       'width': 807,\n",
       "       'url': 'https://sun9-7.userapi.com/s/v1/ig2/cFb1GdMDaR19GH0HgS7tVX-22fjAkU4ZXd1yy5fj1A6SZiD9VhUm5Coa_4C9-U_9y-Te6gP601W3fEv7O6ju3lAG.jpg?quality=96&as=32x17,48x25,72x38,108x57,160x84,240x126,360x189,480x252,540x283,640x336,720x378,1080x567,1200x630&from=bu&u=tGllxbgVlnSW1ZLZVdEe5Gk7MsLWqdR79krCE6HPJz0&cs=807x424'},\n",
       "      {'height': 630,\n",
       "       'type': 'z',\n",
       "       'width': 1200,\n",
       "       'url': 'https://sun9-7.userapi.com/s/v1/ig2/cFb1GdMDaR19GH0HgS7tVX-22fjAkU4ZXd1yy5fj1A6SZiD9VhUm5Coa_4C9-U_9y-Te6gP601W3fEv7O6ju3lAG.jpg?quality=96&as=32x17,48x25,72x38,108x57,160x84,240x126,360x189,480x252,540x283,640x336,720x378,1080x567,1200x630&from=bu&u=tGllxbgVlnSW1ZLZVdEe5Gk7MsLWqdR79krCE6HPJz0&cs=1200x630'}],\n",
       "     'text': '',\n",
       "     'user_id': 100,\n",
       "     'web_view_token': '6428d2241dfdbe98df',\n",
       "     'orig_photo': {'height': 630,\n",
       "      'type': 'base',\n",
       "      'url': 'https://sun9-7.userapi.com/s/v1/ig2/cFb1GdMDaR19GH0HgS7tVX-22fjAkU4ZXd1yy5fj1A6SZiD9VhUm5Coa_4C9-U_9y-Te6gP601W3fEv7O6ju3lAG.jpg?quality=96&as=32x17,48x25,72x38,108x57,160x84,240x126,360x189,480x252,540x283,640x336,720x378,1080x567,1200x630&from=bu&u=tGllxbgVlnSW1ZLZVdEe5Gk7MsLWqdR79krCE6HPJz0',\n",
       "      'width': 1200}},\n",
       "    'style': 'full'}],\n",
       "  'attachments_meta': {'primary_mode': 'single',\n",
       "   'carousel_ratio': 1.777778,\n",
       "   'ratio': 1.777778},\n",
       "  'date': 1734013862,\n",
       "  'from_id': -20629724,\n",
       "  'id': 1600618,\n",
       "  'is_favorite': False,\n",
       "  'likes': {'can_like': 1,\n",
       "   'count': 19,\n",
       "   'user_likes': 0,\n",
       "   'can_publish': 1,\n",
       "   'repost_disabled': False},\n",
       "  'owner_id': -20629724,\n",
       "  'post_source': {'type': 'api'},\n",
       "  'post_type': 'post',\n",
       "  'reposts': {'count': 26, 'user_reposted': 0},\n",
       "  'text': 'Добро пожаловать в самую необычную ночную смену в вашей карьере!\\n\\nЗагадочные сбои, необъяснимые звуки из серверной и мистические инциденты — всё это ждёт вас в дата-центре после заката. Сможете ли вы пережить эту мистическую ночь и сохранить SLA?\\n\\nСыграйте за сервисного инженера, диагноста или инженера мониторинга — и погрузитесь в захватывающие технические квесты 👉 [#alias|u.habr.com/jet-vk?utm...|https://u.habr.com/jet-vk?utm_source=vk_habr&utm_medium=social&utm_campaign=22976080]\\n\\nЗа прохождение испытаний без единой ошибки дадим эксклюзивную ачивку на Хабре, и пусть все обзавидуются!',\n",
       "  'views': {'count': 17487}}]"
      ]
     },
     "execution_count": 8,
     "metadata": {},
     "output_type": "execute_result"
    }
   ],
   "source": [
    "posts = vk.wall.get(owner_id=-20629724, count=1)['items']\n",
    "posts"
   ]
  },
  {
   "cell_type": "markdown",
   "metadata": {
    "id": "Z4jJ4fOJ1eS9"
   },
   "source": [
    "**Задание**\n",
    "\n",
    "1. Изучите [**документацию VK API**](https://dev.vk.com/ru/method/wall)\n",
    "\n",
    "2. Выберите **сообщество** для скрейпинга данных\n",
    "\n",
    "3. Произведите **парсинг** выгруженных данных:\n",
    "\n",
    "- извлеките изображение под постом\n",
    "\n",
    "- извлеките текст публикации\n",
    "\n",
    "- извлеките любую статистику, например, количество просмотров\n",
    "\n",
    "4. Сформируйте файл ***.csv**\n",
    "\n",
    "Используйте шаблон:"
   ]
  },
  {
   "cell_type": "markdown",
   "metadata": {},
   "source": [
    "-15845684"
   ]
  },
  {
   "cell_type": "code",
   "execution_count": null,
   "metadata": {
    "id": "ZtY4cee6r1ck"
   },
   "outputs": [
    {
     "name": "stderr",
     "output_type": "stream",
     "text": [
      "C:\\Users\\mrpec\\AppData\\Local\\Temp\\ipykernel_19780\\1819314905.py:4: DeprecationWarning: Importing display from IPython.core.display is deprecated since IPython 7.14, please import from IPython display\n",
      "  from IPython.core.display import display, HTML\n"
     ]
    },
    {
     "data": {
      "text/html": [
       "<table border=\"1\" class=\"dataframe\">\n",
       "  <thead>\n",
       "    <tr style=\"text-align: right;\">\n",
       "      <th>post IDs</th>\n",
       "      <th>views</th>\n",
       "      <th>repost</th>\n",
       "    </tr>\n",
       "  </thead>\n",
       "  <tbody>\n",
       "    <tr>\n",
       "      <td>872747</td>\n",
       "      <td>43200</td>\n",
       "      <td>2020</td>\n",
       "    </tr>\n",
       "    <tr>\n",
       "      <td>875027</td>\n",
       "      <td>5683</td>\n",
       "      <td>10</td>\n",
       "    </tr>\n",
       "    <tr>\n",
       "      <td>874984</td>\n",
       "      <td>11408</td>\n",
       "      <td>16</td>\n",
       "    </tr>\n",
       "    <tr>\n",
       "      <td>874971</td>\n",
       "      <td>19553</td>\n",
       "      <td>38</td>\n",
       "    </tr>\n",
       "    <tr>\n",
       "      <td>874948</td>\n",
       "      <td>8060</td>\n",
       "      <td>5</td>\n",
       "    </tr>\n",
       "    <tr>\n",
       "      <td>874899</td>\n",
       "      <td>7717</td>\n",
       "      <td>3</td>\n",
       "    </tr>\n",
       "    <tr>\n",
       "      <td>874855</td>\n",
       "      <td>13285</td>\n",
       "      <td>208</td>\n",
       "    </tr>\n",
       "    <tr>\n",
       "      <td>874799</td>\n",
       "      <td>9415</td>\n",
       "      <td>4</td>\n",
       "    </tr>\n",
       "    <tr>\n",
       "      <td>874711</td>\n",
       "      <td>17151</td>\n",
       "      <td>102</td>\n",
       "    </tr>\n",
       "    <tr>\n",
       "      <td>874680</td>\n",
       "      <td>6857</td>\n",
       "      <td>8</td>\n",
       "    </tr>\n",
       "  </tbody>\n",
       "</table>"
      ],
      "text/plain": [
       "<IPython.core.display.HTML object>"
      ]
     },
     "metadata": {},
     "output_type": "display_data"
    },
    {
     "data": {
      "image/png": "[encoded data removed]",
      "text/plain": [
       "<Figure size 1000x600 with 1 Axes>"
      ]
     },
     "metadata": {},
     "output_type": "display_data"
    }
   ],
   "source": [
    "import vk_api\n",
    "import csv\n",
    "import pandas as pd\n",
    "from IPython.core.display import display, HTML\n",
    "import matplotlib.pyplot as plt\n",
    "import numpy as np\n",
    "\n",
    "def scrape_wall_data(token, owner_id, count):\n",
    "    \"\"\"\n",
    "    Функция принимает на вход token пользователя,\n",
    "    Owner_id сообщества и количество count захватываемых постов. \n",
    "    ...\n",
    "    Дополните комментарии к коду, разъясняющие работу функции.\n",
    "    \"\"\"\n",
    "    try:\n",
    "        # Инициализация VK API\n",
    "        vk_session = vk_api.VkApi(token=token)\n",
    "        vk = vk_session.get_api()\n",
    "\n",
    "        # Метод wall.get\n",
    "        posts = vk.wall.get(owner_id=owner_id, count=count)['items']\n",
    "\n",
    "        # Хранилище для данных\n",
    "        scraped_data = []\n",
    "\n",
    "        # Парсинг\n",
    "        for post in posts:\n",
    "            post_data = {\n",
    "                'post_id': post['id'],\n",
    "                'attachments': post['attachments'],\n",
    "                'text': post['text'],\n",
    "                'views': post['views'],\n",
    "                'reposts': post['reposts']\n",
    "            }\n",
    "            scraped_data.append(post_data)\n",
    "\n",
    "        return scraped_data\n",
    "\n",
    "    except vk_api.exceptions.ApiError as e:\n",
    "        print(f\"Error accessing VK API: {e}\")\n",
    "        return []\n",
    "\n",
    "# Допишите функцию для сохранения *.csv\n",
    "def save_to_csv(data, file_name='vk_wall_posts.csv'):\n",
    "    with open(file_name, mode='w', newline='', encoding='utf-8') as file:\n",
    "        writer = csv.DictWriter(file, fieldnames=['post_id', 'attachments', 'text', 'views', 'reposts'])\n",
    "        writer.writeheader()\n",
    "        for row in data:\n",
    "            writer.writerow(row)\n",
    "\n",
    "def stats(data):\n",
    "    # Напишите функцию для описания ваших данных:\n",
    "    # выведите часть данных с помощью pandas\n",
    "    # сделайте визуализацию собранной статистики\n",
    "    stats = []\n",
    "    for post in data:\n",
    "        post_stats = {\"post IDs\": post['post_id'],\n",
    "                 \"views\": post[\"views\"]['count'],\n",
    "                 \"repost\": post[\"reposts\"]['count']}\n",
    "        stats.append(post_stats)\n",
    "    df = pd.DataFrame(stats)\n",
    "    display(HTML(df.to_html(index=False)))\n",
    "    \n",
    "    x = df['post IDs'].astype(str)\n",
    "    y = df['views']\n",
    "    plt.figure(figsize=(10, 6))\n",
    "    plt.bar(x, y, color='pink', edgecolor='red')\n",
    "    plt.title(\"Количество просмотров по постам\", fontsize=16)\n",
    "    plt.xlabel(\"ID постов\", fontsize=14)\n",
    "    plt.ylabel(\"Просмотры\", fontsize=14)\n",
    "    plt.xticks(rotation=45, fontsize=10)\n",
    "    plt.tight_layout()\n",
    "    plt.show()\n",
    "\n",
    "\n",
    "# Функция для выполнения задачи\n",
    "def main():\n",
    "    # Введите ваш токен VK API\n",
    "    token = \"Тут был мой токен\"\n",
    "\n",
    "    # Введите ID сообщества\n",
    "    owner_id = -15845684\n",
    "\n",
    "    # Введите количество публикаций для скрейпинга\n",
    "    num_posts = 10\n",
    "\n",
    "    # Запустите функцию для скрейпинга\n",
    "    wall_data = scrape_wall_data(token, owner_id, num_posts)\n",
    "    \n",
    "    if wall_data:\n",
    "        # Запустите функцию для сохранения *.csv\n",
    "        save_to_csv(wall_data)\n",
    "        stats(wall_data)\n",
    "\n",
    "    else:\n",
    "        print(\"No data\")\n",
    "\n",
    "if __name__ == \"__main__\":\n",
    "    main()\n"
   ]
  }
 ],
 "metadata": {
  "colab": {
   "provenance": []
  },
  "kernelspec": {
   "display_name": "Python 3",
   "name": "python3"
  },
  "language_info": {
   "codemirror_mode": {
    "name": "ipython",
    "version": 3
   },
   "file_extension": ".py",
   "mimetype": "text/x-python",
   "name": "python",
   "nbconvert_exporter": "python",
   "pygments_lexer": "ipython3",
   "version": "3.12.6"
  }
 },
 "nbformat": 4,
 "nbformat_minor": 0
}
