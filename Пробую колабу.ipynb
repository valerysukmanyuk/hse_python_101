{
  "nbformat": 4,
  "nbformat_minor": 0,
  "metadata": {
    "colab": {
      "provenance": [],
      "authorship_tag": "ABX9TyN9ZHucjjA2G/wnEicQec0h",
      "include_colab_link": true
    },
    "kernelspec": {
      "name": "python3",
      "display_name": "Python 3"
    },
    "language_info": {
      "name": "python"
    }
  },
  "cells": [
    {
      "cell_type": "markdown",
      "metadata": {
        "id": "view-in-github",
        "colab_type": "text"
      },
      "source": [
        "<a href=\"https://colab.research.google.com/github/valerysukmanyuk/hse_python_101/blob/main/%D0%9F%D1%80%D0%BE%D0%B1%D1%83%D1%8E%20%D0%BA%D0%BE%D0%BB%D0%B0%D0%B1%D1%83.ipynb\" target=\"_parent\"><img src=\"https://colab.research.google.com/assets/colab-badge.svg\" alt=\"Open In Colab\"/></a>"
      ]
    },
    {
      "cell_type": "code",
      "execution_count": null,
      "metadata": {
        "id": "KRRRPl6Bx6QD"
      },
      "outputs": [],
      "source": [
        "Вот тут я печатулькаю"
      ]
    }
  ]
}