{
  "nbformat": 4,
  "nbformat_minor": 0,
  "metadata": {
    "colab": {
      "provenance": [],
      "include_colab_link": true
    },
    "kernelspec": {
      "name": "python3",
      "display_name": "Python 3"
    },
    "language_info": {
      "name": "python"
    }
  },
  "cells": [
    {
      "cell_type": "markdown",
      "metadata": {
        "id": "view-in-github",
        "colab_type": "text"
      },
      "source": [
        "<a href=\"https://colab.research.google.com/github/valerysukmanyuk/hse_python_101/blob/h%2Fw/workbook/1_arithmetics.ipynb\" target=\"_parent\"><img src=\"https://colab.research.google.com/assets/colab-badge.svg\" alt=\"Open In Colab\"/></a>"
      ]
    },
    {
      "cell_type": "markdown",
      "source": [
        "(c) В.И. Фирсанова | 2024"
      ],
      "metadata": {
        "id": "LKJXB1rGMi22"
      }
    },
    {
      "cell_type": "markdown",
      "source": [
        "# Арифметические операции в Python\n",
        "\n",
        "1. **Сложение (+)**:\n",
        "   - `3 + 5` возвращает `8`\n",
        "\n",
        "2. **Вычитание (-)**:\n",
        "   - `10 - 4` возвращает `6`\n",
        "\n",
        "3. **Умножение (*)**:\n",
        "   - `2 * 6` возвращает `12`\n",
        "\n",
        "4. **Деление (/)**:\n",
        "   - `15 / 3` возвращает `5.0` (число с плавающей точкой)\n",
        "\n",
        "5. **Целочисленное деление (//)**:\n",
        "   - `15 // 4` возвращает `3` (целое число)\n",
        "\n",
        "6. **Остаток от деления (%)**:\n",
        "   - `15 % 4` возвращает `3`\n",
        "\n",
        "7. **Возведение в степень (**** **либо (pow())**:\n",
        "   - `2 ** 3` или `pow(2, 3)` возвращает `8`\n",
        "\n",
        "8. **Модуль (abs())**:\n",
        "   - `abs(-10)` возвращает `10`\n",
        "\n",
        "10. **Округление (round())**:\n",
        "    - `round(4.6)` возвращает `5`\n",
        "    - `round(4.65, 1)` возвращает `4.7` (1 знак после запятой)\n",
        "\n",
        "**Порядок арифметических операций в Python:**\n",
        "\n",
        "1. Скобки\n",
        "2. Возведение в степень, корень числа\n",
        "3. Умножение и деление слева-направо\n",
        "4. Сложение и вычитание слева-направо"
      ],
      "metadata": {
        "id": "fQaRb4FdiZXL"
      }
    },
    {
      "cell_type": "code",
      "source": [
        "num1 = 10\n",
        "num2 = 20\n",
        "\n",
        "# Напишите код для сложения 2-х чисел\n",
        "\n",
        "result = num1+num2\n",
        "\n",
        "print(result)"
      ],
      "metadata": {
        "id": "l6Dwn2cDj_N9"
      },
      "execution_count": null,
      "outputs": []
    },
    {
      "cell_type": "code",
      "source": [
        "num1 = 10\n",
        "num2 = 20\n",
        "\n",
        "# Напишите код для вычитания 2-х чисел\n",
        "\n",
        "result = ### ваш код здесь ###\n",
        "\n",
        "print(result)"
      ],
      "metadata": {
        "id": "0eRzO5hMkdIc"
      },
      "execution_count": null,
      "outputs": []
    },
    {
      "cell_type": "code",
      "source": [
        "num1 = 10\n",
        "num2 = 20\n",
        "\n",
        "# Напишите код для умножения 2-х чисел\n",
        "\n",
        "result = ### ваш код здесь ###\n",
        "\n",
        "print(result)"
      ],
      "metadata": {
        "id": "ZyueEtLqkinp"
      },
      "execution_count": null,
      "outputs": []
    },
    {
      "cell_type": "code",
      "source": [
        "num1 = 10\n",
        "num2 = 20\n",
        "\n",
        "# Напишите код для деления 2-х чисел\n",
        "\n",
        "result = ### ваш код здесь ###\n",
        "\n",
        "print(result)"
      ],
      "metadata": {
        "id": "6s-US4aVkj93"
      },
      "execution_count": null,
      "outputs": []
    },
    {
      "cell_type": "code",
      "source": [
        "str1 = \"Hello, \"\n",
        "str2 = \"World!\"\n",
        "\n",
        "# Напишите код для сложения 2-х строк, что получилось?\n",
        "\n",
        "result = ### ваш код здесь ###\n",
        "\n",
        "print(result)"
      ],
      "metadata": {
        "id": "53S7Bayskqiv"
      },
      "execution_count": null,
      "outputs": []
    },
    {
      "cell_type": "code",
      "source": [
        "str1 = \"Hello, \"\n",
        "num1 = 10\n",
        "\n",
        "# Напишите код для сложения строки и числа, чем это все закончилось?\n",
        "\n",
        "result = ### ваш код здесь ###\n",
        "\n",
        "print(result)"
      ],
      "metadata": {
        "id": "IWmTrByfk0Ok"
      },
      "execution_count": null,
      "outputs": []
    },
    {
      "cell_type": "code",
      "source": [
        "str1 = \"Hello, \"\n",
        "num1 = \"10\"\n",
        "\n",
        "# Напишите код для сложения строки и числа еще раз, что получилось?\n",
        "\n",
        "result = ### ваш код здесь ###\n",
        "\n",
        "print(result)"
      ],
      "metadata": {
        "id": "MTUyA3jUlJBL"
      },
      "execution_count": null,
      "outputs": []
    },
    {
      "cell_type": "markdown",
      "source": [
        "Сложение двух строк называется **конкатенацией**. В Python можно конкатенировать только 2 одинаковых типа данных, например, числа и числа, строки и строки, матрицы и матрицы и т.д."
      ],
      "metadata": {
        "id": "pQk4nII6lYHC"
      }
    },
    {
      "cell_type": "code",
      "source": [
        "num1 = 10\n",
        "num2 = 20\n",
        "\n",
        "# Выведите на экран результат сложения 2-х чисел\n",
        "\n",
        "num1 += num2\n",
        "\n",
        "### ваш код здесь ###"
      ],
      "metadata": {
        "id": "xbPvx4Dslnhp"
      },
      "execution_count": null,
      "outputs": []
    },
    {
      "cell_type": "markdown",
      "source": [
        "Операторы `+=`, `-=`, `*=`, `/=` изменяют значение текущей переменной путем сложения, вычитания, умножения и т.д. другой переменной. Они делают код **питоничным**, ускоряя как скорость написания кода, так и скорость его выполнения.\n",
        "\n",
        "Почему ускоряется скорость выполнения кода?\n",
        "\n",
        "Сценарий 1\n",
        "\n",
        "```\n",
        "a = 1 # занимаем ячейку памяти компьютера и даем ей идентификатор a\n",
        "b = 1 # занимаем ячейку памяти компьютера и даем ей идентификатор b\n",
        "\n",
        "c = a + b # занимаем ячейку памяти компьютера и даем ей идентификатор c\n",
        "```\n",
        "Сценарий 2\n",
        "```\n",
        "a = 1 # занимаем ячейку памяти компьютера и даем ей идентификатор a\n",
        "b = 1 # занимаем ячейку памяти компьютера и даем ей идентификатор b\n",
        "\n",
        "a += b # обновляем информацию в ячейке a\n",
        "```\n",
        "\n",
        "Результат тот же, но мы не заполняем место в памяти компьютера ячейкой `c`.\n",
        "А теперь представь, что мы работаем с большими данными. Как много памяти мы сохраним и насколько быстрее будет работать такой код!\n",
        "\n",
        "Так что питоничность - это то, к чему мы стремимся, как питонисты :)"
      ],
      "metadata": {
        "id": "EQdzTKaMlvyB"
      }
    },
    {
      "cell_type": "code",
      "source": [
        "num1 = 10\n",
        "num2 = 20\n",
        "\n",
        "# Выведите на экран результат вычитания 2-х чисел с помощью оператора -=\n",
        "\n",
        "### ваш код здесь ###\n",
        "\n",
        "### ваш код здесь ###"
      ],
      "metadata": {
        "id": "C32ozj4SnYH1"
      },
      "execution_count": null,
      "outputs": []
    },
    {
      "cell_type": "code",
      "source": [
        "num1 = 10\n",
        "num2 = 20\n",
        "\n",
        "# Выведите на экран результат умножения 2-х чисел с помощью оператора *=\n",
        "\n",
        "### ваш код здесь ###\n",
        "\n",
        "### ваш код здесь ###"
      ],
      "metadata": {
        "id": "yF5z2RYgnh0O"
      },
      "execution_count": null,
      "outputs": []
    },
    {
      "cell_type": "code",
      "source": [
        "num1 = 10\n",
        "num2 = 20\n",
        "\n",
        "# Выведите на экран результат деления 2-х чисел с помощью оператора /=\n",
        "\n",
        "### ваш код здесь ###\n",
        "\n",
        "### ваш код здесь ###"
      ],
      "metadata": {
        "id": "i0nBdi3ankz0"
      },
      "execution_count": null,
      "outputs": []
    }
  ]
}